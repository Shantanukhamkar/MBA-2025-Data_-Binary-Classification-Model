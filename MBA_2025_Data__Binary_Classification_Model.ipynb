{
  "nbformat": 4,
  "nbformat_minor": 0,
  "metadata": {
    "colab": {
      "provenance": []
    },
    "kernelspec": {
      "name": "python3",
      "display_name": "Python 3"
    },
    "language_info": {
      "name": "python"
    }
  },
  "cells": [
    {
      "cell_type": "markdown",
      "source": [
        "# MBA class of 2025 admission prediction\n",
        "Business problem: Classification problem used ML method to predict admission result."
      ],
      "metadata": {
        "id": "xudSIaNVbHKK"
      }
    },
    {
      "cell_type": "code",
      "source": [
        "# Import necesary library\n",
        "\n",
        "import pandas as pd\n",
        "import numpy as np\n",
        "import matplotlib.pyplot as plt\n",
        "import seaborn as sns\n",
        "import warnings\n",
        "warnings.filterwarnings('ignore')"
      ],
      "metadata": {
        "id": "07n8EyNVbDVa"
      },
      "execution_count": 4,
      "outputs": []
    },
    {
      "cell_type": "code",
      "source": [
        "df = pd.read_csv('/content/MBA.csv')"
      ],
      "metadata": {
        "id": "J9u-RvA0c73R"
      },
      "execution_count": 5,
      "outputs": []
    },
    {
      "cell_type": "code",
      "source": [
        "df.head()"
      ],
      "metadata": {
        "colab": {
          "base_uri": "https://localhost:8080/",
          "height": 206
        },
        "id": "TJ182wmAd7LC",
        "outputId": "7f62c7ee-84f1-4bd0-a779-a9b66512f18c"
      },
      "execution_count": 6,
      "outputs": [
        {
          "output_type": "execute_result",
          "data": {
            "text/plain": [
              "   application_id  gender  international   gpa       major      race   gmat  \\\n",
              "0               1  Female          False  3.30    Business     Asian  620.0   \n",
              "1               2    Male          False  3.28  Humanities     Black  680.0   \n",
              "2               3  Female           True  3.30    Business       NaN  710.0   \n",
              "3               4    Male          False  3.47        STEM     Black  690.0   \n",
              "4               5    Male          False  3.35        STEM  Hispanic  590.0   \n",
              "\n",
              "   work_exp          work_industry admission  \n",
              "0       3.0     Financial Services     Admit  \n",
              "1       5.0  Investment Management       NaN  \n",
              "2       5.0             Technology     Admit  \n",
              "3       6.0             Technology       NaN  \n",
              "4       5.0             Consulting       NaN  "
            ],
            "text/html": [
              "\n",
              "  <div id=\"df-153da62e-6746-4968-b05c-a53ede14082c\" class=\"colab-df-container\">\n",
              "    <div>\n",
              "<style scoped>\n",
              "    .dataframe tbody tr th:only-of-type {\n",
              "        vertical-align: middle;\n",
              "    }\n",
              "\n",
              "    .dataframe tbody tr th {\n",
              "        vertical-align: top;\n",
              "    }\n",
              "\n",
              "    .dataframe thead th {\n",
              "        text-align: right;\n",
              "    }\n",
              "</style>\n",
              "<table border=\"1\" class=\"dataframe\">\n",
              "  <thead>\n",
              "    <tr style=\"text-align: right;\">\n",
              "      <th></th>\n",
              "      <th>application_id</th>\n",
              "      <th>gender</th>\n",
              "      <th>international</th>\n",
              "      <th>gpa</th>\n",
              "      <th>major</th>\n",
              "      <th>race</th>\n",
              "      <th>gmat</th>\n",
              "      <th>work_exp</th>\n",
              "      <th>work_industry</th>\n",
              "      <th>admission</th>\n",
              "    </tr>\n",
              "  </thead>\n",
              "  <tbody>\n",
              "    <tr>\n",
              "      <th>0</th>\n",
              "      <td>1</td>\n",
              "      <td>Female</td>\n",
              "      <td>False</td>\n",
              "      <td>3.30</td>\n",
              "      <td>Business</td>\n",
              "      <td>Asian</td>\n",
              "      <td>620.0</td>\n",
              "      <td>3.0</td>\n",
              "      <td>Financial Services</td>\n",
              "      <td>Admit</td>\n",
              "    </tr>\n",
              "    <tr>\n",
              "      <th>1</th>\n",
              "      <td>2</td>\n",
              "      <td>Male</td>\n",
              "      <td>False</td>\n",
              "      <td>3.28</td>\n",
              "      <td>Humanities</td>\n",
              "      <td>Black</td>\n",
              "      <td>680.0</td>\n",
              "      <td>5.0</td>\n",
              "      <td>Investment Management</td>\n",
              "      <td>NaN</td>\n",
              "    </tr>\n",
              "    <tr>\n",
              "      <th>2</th>\n",
              "      <td>3</td>\n",
              "      <td>Female</td>\n",
              "      <td>True</td>\n",
              "      <td>3.30</td>\n",
              "      <td>Business</td>\n",
              "      <td>NaN</td>\n",
              "      <td>710.0</td>\n",
              "      <td>5.0</td>\n",
              "      <td>Technology</td>\n",
              "      <td>Admit</td>\n",
              "    </tr>\n",
              "    <tr>\n",
              "      <th>3</th>\n",
              "      <td>4</td>\n",
              "      <td>Male</td>\n",
              "      <td>False</td>\n",
              "      <td>3.47</td>\n",
              "      <td>STEM</td>\n",
              "      <td>Black</td>\n",
              "      <td>690.0</td>\n",
              "      <td>6.0</td>\n",
              "      <td>Technology</td>\n",
              "      <td>NaN</td>\n",
              "    </tr>\n",
              "    <tr>\n",
              "      <th>4</th>\n",
              "      <td>5</td>\n",
              "      <td>Male</td>\n",
              "      <td>False</td>\n",
              "      <td>3.35</td>\n",
              "      <td>STEM</td>\n",
              "      <td>Hispanic</td>\n",
              "      <td>590.0</td>\n",
              "      <td>5.0</td>\n",
              "      <td>Consulting</td>\n",
              "      <td>NaN</td>\n",
              "    </tr>\n",
              "  </tbody>\n",
              "</table>\n",
              "</div>\n",
              "    <div class=\"colab-df-buttons\">\n",
              "\n",
              "  <div class=\"colab-df-container\">\n",
              "    <button class=\"colab-df-convert\" onclick=\"convertToInteractive('df-153da62e-6746-4968-b05c-a53ede14082c')\"\n",
              "            title=\"Convert this dataframe to an interactive table.\"\n",
              "            style=\"display:none;\">\n",
              "\n",
              "  <svg xmlns=\"http://www.w3.org/2000/svg\" height=\"24px\" viewBox=\"0 -960 960 960\">\n",
              "    <path d=\"M120-120v-720h720v720H120Zm60-500h600v-160H180v160Zm220 220h160v-160H400v160Zm0 220h160v-160H400v160ZM180-400h160v-160H180v160Zm440 0h160v-160H620v160ZM180-180h160v-160H180v160Zm440 0h160v-160H620v160Z\"/>\n",
              "  </svg>\n",
              "    </button>\n",
              "\n",
              "  <style>\n",
              "    .colab-df-container {\n",
              "      display:flex;\n",
              "      gap: 12px;\n",
              "    }\n",
              "\n",
              "    .colab-df-convert {\n",
              "      background-color: #E8F0FE;\n",
              "      border: none;\n",
              "      border-radius: 50%;\n",
              "      cursor: pointer;\n",
              "      display: none;\n",
              "      fill: #1967D2;\n",
              "      height: 32px;\n",
              "      padding: 0 0 0 0;\n",
              "      width: 32px;\n",
              "    }\n",
              "\n",
              "    .colab-df-convert:hover {\n",
              "      background-color: #E2EBFA;\n",
              "      box-shadow: 0px 1px 2px rgba(60, 64, 67, 0.3), 0px 1px 3px 1px rgba(60, 64, 67, 0.15);\n",
              "      fill: #174EA6;\n",
              "    }\n",
              "\n",
              "    .colab-df-buttons div {\n",
              "      margin-bottom: 4px;\n",
              "    }\n",
              "\n",
              "    [theme=dark] .colab-df-convert {\n",
              "      background-color: #3B4455;\n",
              "      fill: #D2E3FC;\n",
              "    }\n",
              "\n",
              "    [theme=dark] .colab-df-convert:hover {\n",
              "      background-color: #434B5C;\n",
              "      box-shadow: 0px 1px 3px 1px rgba(0, 0, 0, 0.15);\n",
              "      filter: drop-shadow(0px 1px 2px rgba(0, 0, 0, 0.3));\n",
              "      fill: #FFFFFF;\n",
              "    }\n",
              "  </style>\n",
              "\n",
              "    <script>\n",
              "      const buttonEl =\n",
              "        document.querySelector('#df-153da62e-6746-4968-b05c-a53ede14082c button.colab-df-convert');\n",
              "      buttonEl.style.display =\n",
              "        google.colab.kernel.accessAllowed ? 'block' : 'none';\n",
              "\n",
              "      async function convertToInteractive(key) {\n",
              "        const element = document.querySelector('#df-153da62e-6746-4968-b05c-a53ede14082c');\n",
              "        const dataTable =\n",
              "          await google.colab.kernel.invokeFunction('convertToInteractive',\n",
              "                                                    [key], {});\n",
              "        if (!dataTable) return;\n",
              "\n",
              "        const docLinkHtml = 'Like what you see? Visit the ' +\n",
              "          '<a target=\"_blank\" href=https://colab.research.google.com/notebooks/data_table.ipynb>data table notebook</a>'\n",
              "          + ' to learn more about interactive tables.';\n",
              "        element.innerHTML = '';\n",
              "        dataTable['output_type'] = 'display_data';\n",
              "        await google.colab.output.renderOutput(dataTable, element);\n",
              "        const docLink = document.createElement('div');\n",
              "        docLink.innerHTML = docLinkHtml;\n",
              "        element.appendChild(docLink);\n",
              "      }\n",
              "    </script>\n",
              "  </div>\n",
              "\n",
              "\n",
              "<div id=\"df-72759e1c-9c71-44ca-ac6d-14910b666f51\">\n",
              "  <button class=\"colab-df-quickchart\" onclick=\"quickchart('df-72759e1c-9c71-44ca-ac6d-14910b666f51')\"\n",
              "            title=\"Suggest charts\"\n",
              "            style=\"display:none;\">\n",
              "\n",
              "<svg xmlns=\"http://www.w3.org/2000/svg\" height=\"24px\"viewBox=\"0 0 24 24\"\n",
              "     width=\"24px\">\n",
              "    <g>\n",
              "        <path d=\"M19 3H5c-1.1 0-2 .9-2 2v14c0 1.1.9 2 2 2h14c1.1 0 2-.9 2-2V5c0-1.1-.9-2-2-2zM9 17H7v-7h2v7zm4 0h-2V7h2v10zm4 0h-2v-4h2v4z\"/>\n",
              "    </g>\n",
              "</svg>\n",
              "  </button>\n",
              "\n",
              "<style>\n",
              "  .colab-df-quickchart {\n",
              "      --bg-color: #E8F0FE;\n",
              "      --fill-color: #1967D2;\n",
              "      --hover-bg-color: #E2EBFA;\n",
              "      --hover-fill-color: #174EA6;\n",
              "      --disabled-fill-color: #AAA;\n",
              "      --disabled-bg-color: #DDD;\n",
              "  }\n",
              "\n",
              "  [theme=dark] .colab-df-quickchart {\n",
              "      --bg-color: #3B4455;\n",
              "      --fill-color: #D2E3FC;\n",
              "      --hover-bg-color: #434B5C;\n",
              "      --hover-fill-color: #FFFFFF;\n",
              "      --disabled-bg-color: #3B4455;\n",
              "      --disabled-fill-color: #666;\n",
              "  }\n",
              "\n",
              "  .colab-df-quickchart {\n",
              "    background-color: var(--bg-color);\n",
              "    border: none;\n",
              "    border-radius: 50%;\n",
              "    cursor: pointer;\n",
              "    display: none;\n",
              "    fill: var(--fill-color);\n",
              "    height: 32px;\n",
              "    padding: 0;\n",
              "    width: 32px;\n",
              "  }\n",
              "\n",
              "  .colab-df-quickchart:hover {\n",
              "    background-color: var(--hover-bg-color);\n",
              "    box-shadow: 0 1px 2px rgba(60, 64, 67, 0.3), 0 1px 3px 1px rgba(60, 64, 67, 0.15);\n",
              "    fill: var(--button-hover-fill-color);\n",
              "  }\n",
              "\n",
              "  .colab-df-quickchart-complete:disabled,\n",
              "  .colab-df-quickchart-complete:disabled:hover {\n",
              "    background-color: var(--disabled-bg-color);\n",
              "    fill: var(--disabled-fill-color);\n",
              "    box-shadow: none;\n",
              "  }\n",
              "\n",
              "  .colab-df-spinner {\n",
              "    border: 2px solid var(--fill-color);\n",
              "    border-color: transparent;\n",
              "    border-bottom-color: var(--fill-color);\n",
              "    animation:\n",
              "      spin 1s steps(1) infinite;\n",
              "  }\n",
              "\n",
              "  @keyframes spin {\n",
              "    0% {\n",
              "      border-color: transparent;\n",
              "      border-bottom-color: var(--fill-color);\n",
              "      border-left-color: var(--fill-color);\n",
              "    }\n",
              "    20% {\n",
              "      border-color: transparent;\n",
              "      border-left-color: var(--fill-color);\n",
              "      border-top-color: var(--fill-color);\n",
              "    }\n",
              "    30% {\n",
              "      border-color: transparent;\n",
              "      border-left-color: var(--fill-color);\n",
              "      border-top-color: var(--fill-color);\n",
              "      border-right-color: var(--fill-color);\n",
              "    }\n",
              "    40% {\n",
              "      border-color: transparent;\n",
              "      border-right-color: var(--fill-color);\n",
              "      border-top-color: var(--fill-color);\n",
              "    }\n",
              "    60% {\n",
              "      border-color: transparent;\n",
              "      border-right-color: var(--fill-color);\n",
              "    }\n",
              "    80% {\n",
              "      border-color: transparent;\n",
              "      border-right-color: var(--fill-color);\n",
              "      border-bottom-color: var(--fill-color);\n",
              "    }\n",
              "    90% {\n",
              "      border-color: transparent;\n",
              "      border-bottom-color: var(--fill-color);\n",
              "    }\n",
              "  }\n",
              "</style>\n",
              "\n",
              "  <script>\n",
              "    async function quickchart(key) {\n",
              "      const quickchartButtonEl =\n",
              "        document.querySelector('#' + key + ' button');\n",
              "      quickchartButtonEl.disabled = true;  // To prevent multiple clicks.\n",
              "      quickchartButtonEl.classList.add('colab-df-spinner');\n",
              "      try {\n",
              "        const charts = await google.colab.kernel.invokeFunction(\n",
              "            'suggestCharts', [key], {});\n",
              "      } catch (error) {\n",
              "        console.error('Error during call to suggestCharts:', error);\n",
              "      }\n",
              "      quickchartButtonEl.classList.remove('colab-df-spinner');\n",
              "      quickchartButtonEl.classList.add('colab-df-quickchart-complete');\n",
              "    }\n",
              "    (() => {\n",
              "      let quickchartButtonEl =\n",
              "        document.querySelector('#df-72759e1c-9c71-44ca-ac6d-14910b666f51 button');\n",
              "      quickchartButtonEl.style.display =\n",
              "        google.colab.kernel.accessAllowed ? 'block' : 'none';\n",
              "    })();\n",
              "  </script>\n",
              "</div>\n",
              "\n",
              "    </div>\n",
              "  </div>\n"
            ],
            "application/vnd.google.colaboratory.intrinsic+json": {
              "type": "dataframe",
              "variable_name": "df",
              "summary": "{\n  \"name\": \"df\",\n  \"rows\": 6194,\n  \"fields\": [\n    {\n      \"column\": \"application_id\",\n      \"properties\": {\n        \"dtype\": \"number\",\n        \"std\": 1788,\n        \"min\": 1,\n        \"max\": 6194,\n        \"num_unique_values\": 6194,\n        \"samples\": [\n          4371,\n          3471,\n          4954\n        ],\n        \"semantic_type\": \"\",\n        \"description\": \"\"\n      }\n    },\n    {\n      \"column\": \"gender\",\n      \"properties\": {\n        \"dtype\": \"category\",\n        \"num_unique_values\": 2,\n        \"samples\": [\n          \"Male\",\n          \"Female\"\n        ],\n        \"semantic_type\": \"\",\n        \"description\": \"\"\n      }\n    },\n    {\n      \"column\": \"international\",\n      \"properties\": {\n        \"dtype\": \"boolean\",\n        \"num_unique_values\": 2,\n        \"samples\": [\n          true,\n          false\n        ],\n        \"semantic_type\": \"\",\n        \"description\": \"\"\n      }\n    },\n    {\n      \"column\": \"gpa\",\n      \"properties\": {\n        \"dtype\": \"number\",\n        \"std\": 0.15154111487341537,\n        \"min\": 2.65,\n        \"max\": 3.77,\n        \"num_unique_values\": 101,\n        \"samples\": [\n          2.81,\n          2.97\n        ],\n        \"semantic_type\": \"\",\n        \"description\": \"\"\n      }\n    },\n    {\n      \"column\": \"major\",\n      \"properties\": {\n        \"dtype\": \"category\",\n        \"num_unique_values\": 3,\n        \"samples\": [\n          \"Business\",\n          \"Humanities\"\n        ],\n        \"semantic_type\": \"\",\n        \"description\": \"\"\n      }\n    },\n    {\n      \"column\": \"race\",\n      \"properties\": {\n        \"dtype\": \"category\",\n        \"num_unique_values\": 5,\n        \"samples\": [\n          \"Black\",\n          \"Other\"\n        ],\n        \"semantic_type\": \"\",\n        \"description\": \"\"\n      }\n    },\n    {\n      \"column\": \"gmat\",\n      \"properties\": {\n        \"dtype\": \"number\",\n        \"std\": 49.29488348551102,\n        \"min\": 570.0,\n        \"max\": 780.0,\n        \"num_unique_values\": 22,\n        \"samples\": [\n          620.0,\n          730.0\n        ],\n        \"semantic_type\": \"\",\n        \"description\": \"\"\n      }\n    },\n    {\n      \"column\": \"work_exp\",\n      \"properties\": {\n        \"dtype\": \"number\",\n        \"std\": 1.0324322571092026,\n        \"min\": 1.0,\n        \"max\": 9.0,\n        \"num_unique_values\": 9,\n        \"samples\": [\n          9.0,\n          5.0\n        ],\n        \"semantic_type\": \"\",\n        \"description\": \"\"\n      }\n    },\n    {\n      \"column\": \"work_industry\",\n      \"properties\": {\n        \"dtype\": \"category\",\n        \"num_unique_values\": 14,\n        \"samples\": [\n          \"Retail\",\n          \"CPG\"\n        ],\n        \"semantic_type\": \"\",\n        \"description\": \"\"\n      }\n    },\n    {\n      \"column\": \"admission\",\n      \"properties\": {\n        \"dtype\": \"category\",\n        \"num_unique_values\": 2,\n        \"samples\": [\n          \"Waitlist\",\n          \"Admit\"\n        ],\n        \"semantic_type\": \"\",\n        \"description\": \"\"\n      }\n    }\n  ]\n}"
            }
          },
          "metadata": {},
          "execution_count": 6
        }
      ]
    },
    {
      "cell_type": "code",
      "source": [
        "df.drop('application_id', axis=1, inplace=True)"
      ],
      "metadata": {
        "id": "k_XNZwxAd8sQ"
      },
      "execution_count": 7,
      "outputs": []
    },
    {
      "cell_type": "code",
      "source": [
        "df.info()"
      ],
      "metadata": {
        "colab": {
          "base_uri": "https://localhost:8080/"
        },
        "id": "VXA-JaN8eIJ4",
        "outputId": "c12ea60a-fab4-4d62-a1f4-19b02df10170"
      },
      "execution_count": 8,
      "outputs": [
        {
          "output_type": "stream",
          "name": "stdout",
          "text": [
            "<class 'pandas.core.frame.DataFrame'>\n",
            "RangeIndex: 6194 entries, 0 to 6193\n",
            "Data columns (total 9 columns):\n",
            " #   Column         Non-Null Count  Dtype  \n",
            "---  ------         --------------  -----  \n",
            " 0   gender         6194 non-null   object \n",
            " 1   international  6194 non-null   bool   \n",
            " 2   gpa            6194 non-null   float64\n",
            " 3   major          6194 non-null   object \n",
            " 4   race           4352 non-null   object \n",
            " 5   gmat           6194 non-null   float64\n",
            " 6   work_exp       6194 non-null   float64\n",
            " 7   work_industry  6194 non-null   object \n",
            " 8   admission      1000 non-null   object \n",
            "dtypes: bool(1), float64(3), object(5)\n",
            "memory usage: 393.3+ KB\n"
          ]
        }
      ]
    },
    {
      "cell_type": "code",
      "source": [
        "df.describe()"
      ],
      "metadata": {
        "colab": {
          "base_uri": "https://localhost:8080/",
          "height": 300
        },
        "id": "DK9aWHooeMwX",
        "outputId": "f3a34f24-1b8b-42af-9891-29fba6711be7"
      },
      "execution_count": 9,
      "outputs": [
        {
          "output_type": "execute_result",
          "data": {
            "text/plain": [
              "               gpa         gmat     work_exp\n",
              "count  6194.000000  6194.000000  6194.000000\n",
              "mean      3.250714   651.092993     5.016952\n",
              "std       0.151541    49.294883     1.032432\n",
              "min       2.650000   570.000000     1.000000\n",
              "25%       3.150000   610.000000     4.000000\n",
              "50%       3.250000   650.000000     5.000000\n",
              "75%       3.350000   680.000000     6.000000\n",
              "max       3.770000   780.000000     9.000000"
            ],
            "text/html": [
              "\n",
              "  <div id=\"df-7606d8b0-4275-4a8f-b734-e5826d709939\" class=\"colab-df-container\">\n",
              "    <div>\n",
              "<style scoped>\n",
              "    .dataframe tbody tr th:only-of-type {\n",
              "        vertical-align: middle;\n",
              "    }\n",
              "\n",
              "    .dataframe tbody tr th {\n",
              "        vertical-align: top;\n",
              "    }\n",
              "\n",
              "    .dataframe thead th {\n",
              "        text-align: right;\n",
              "    }\n",
              "</style>\n",
              "<table border=\"1\" class=\"dataframe\">\n",
              "  <thead>\n",
              "    <tr style=\"text-align: right;\">\n",
              "      <th></th>\n",
              "      <th>gpa</th>\n",
              "      <th>gmat</th>\n",
              "      <th>work_exp</th>\n",
              "    </tr>\n",
              "  </thead>\n",
              "  <tbody>\n",
              "    <tr>\n",
              "      <th>count</th>\n",
              "      <td>6194.000000</td>\n",
              "      <td>6194.000000</td>\n",
              "      <td>6194.000000</td>\n",
              "    </tr>\n",
              "    <tr>\n",
              "      <th>mean</th>\n",
              "      <td>3.250714</td>\n",
              "      <td>651.092993</td>\n",
              "      <td>5.016952</td>\n",
              "    </tr>\n",
              "    <tr>\n",
              "      <th>std</th>\n",
              "      <td>0.151541</td>\n",
              "      <td>49.294883</td>\n",
              "      <td>1.032432</td>\n",
              "    </tr>\n",
              "    <tr>\n",
              "      <th>min</th>\n",
              "      <td>2.650000</td>\n",
              "      <td>570.000000</td>\n",
              "      <td>1.000000</td>\n",
              "    </tr>\n",
              "    <tr>\n",
              "      <th>25%</th>\n",
              "      <td>3.150000</td>\n",
              "      <td>610.000000</td>\n",
              "      <td>4.000000</td>\n",
              "    </tr>\n",
              "    <tr>\n",
              "      <th>50%</th>\n",
              "      <td>3.250000</td>\n",
              "      <td>650.000000</td>\n",
              "      <td>5.000000</td>\n",
              "    </tr>\n",
              "    <tr>\n",
              "      <th>75%</th>\n",
              "      <td>3.350000</td>\n",
              "      <td>680.000000</td>\n",
              "      <td>6.000000</td>\n",
              "    </tr>\n",
              "    <tr>\n",
              "      <th>max</th>\n",
              "      <td>3.770000</td>\n",
              "      <td>780.000000</td>\n",
              "      <td>9.000000</td>\n",
              "    </tr>\n",
              "  </tbody>\n",
              "</table>\n",
              "</div>\n",
              "    <div class=\"colab-df-buttons\">\n",
              "\n",
              "  <div class=\"colab-df-container\">\n",
              "    <button class=\"colab-df-convert\" onclick=\"convertToInteractive('df-7606d8b0-4275-4a8f-b734-e5826d709939')\"\n",
              "            title=\"Convert this dataframe to an interactive table.\"\n",
              "            style=\"display:none;\">\n",
              "\n",
              "  <svg xmlns=\"http://www.w3.org/2000/svg\" height=\"24px\" viewBox=\"0 -960 960 960\">\n",
              "    <path d=\"M120-120v-720h720v720H120Zm60-500h600v-160H180v160Zm220 220h160v-160H400v160Zm0 220h160v-160H400v160ZM180-400h160v-160H180v160Zm440 0h160v-160H620v160ZM180-180h160v-160H180v160Zm440 0h160v-160H620v160Z\"/>\n",
              "  </svg>\n",
              "    </button>\n",
              "\n",
              "  <style>\n",
              "    .colab-df-container {\n",
              "      display:flex;\n",
              "      gap: 12px;\n",
              "    }\n",
              "\n",
              "    .colab-df-convert {\n",
              "      background-color: #E8F0FE;\n",
              "      border: none;\n",
              "      border-radius: 50%;\n",
              "      cursor: pointer;\n",
              "      display: none;\n",
              "      fill: #1967D2;\n",
              "      height: 32px;\n",
              "      padding: 0 0 0 0;\n",
              "      width: 32px;\n",
              "    }\n",
              "\n",
              "    .colab-df-convert:hover {\n",
              "      background-color: #E2EBFA;\n",
              "      box-shadow: 0px 1px 2px rgba(60, 64, 67, 0.3), 0px 1px 3px 1px rgba(60, 64, 67, 0.15);\n",
              "      fill: #174EA6;\n",
              "    }\n",
              "\n",
              "    .colab-df-buttons div {\n",
              "      margin-bottom: 4px;\n",
              "    }\n",
              "\n",
              "    [theme=dark] .colab-df-convert {\n",
              "      background-color: #3B4455;\n",
              "      fill: #D2E3FC;\n",
              "    }\n",
              "\n",
              "    [theme=dark] .colab-df-convert:hover {\n",
              "      background-color: #434B5C;\n",
              "      box-shadow: 0px 1px 3px 1px rgba(0, 0, 0, 0.15);\n",
              "      filter: drop-shadow(0px 1px 2px rgba(0, 0, 0, 0.3));\n",
              "      fill: #FFFFFF;\n",
              "    }\n",
              "  </style>\n",
              "\n",
              "    <script>\n",
              "      const buttonEl =\n",
              "        document.querySelector('#df-7606d8b0-4275-4a8f-b734-e5826d709939 button.colab-df-convert');\n",
              "      buttonEl.style.display =\n",
              "        google.colab.kernel.accessAllowed ? 'block' : 'none';\n",
              "\n",
              "      async function convertToInteractive(key) {\n",
              "        const element = document.querySelector('#df-7606d8b0-4275-4a8f-b734-e5826d709939');\n",
              "        const dataTable =\n",
              "          await google.colab.kernel.invokeFunction('convertToInteractive',\n",
              "                                                    [key], {});\n",
              "        if (!dataTable) return;\n",
              "\n",
              "        const docLinkHtml = 'Like what you see? Visit the ' +\n",
              "          '<a target=\"_blank\" href=https://colab.research.google.com/notebooks/data_table.ipynb>data table notebook</a>'\n",
              "          + ' to learn more about interactive tables.';\n",
              "        element.innerHTML = '';\n",
              "        dataTable['output_type'] = 'display_data';\n",
              "        await google.colab.output.renderOutput(dataTable, element);\n",
              "        const docLink = document.createElement('div');\n",
              "        docLink.innerHTML = docLinkHtml;\n",
              "        element.appendChild(docLink);\n",
              "      }\n",
              "    </script>\n",
              "  </div>\n",
              "\n",
              "\n",
              "<div id=\"df-8c72cbb8-bb0a-47df-a68a-2a0374e50ca3\">\n",
              "  <button class=\"colab-df-quickchart\" onclick=\"quickchart('df-8c72cbb8-bb0a-47df-a68a-2a0374e50ca3')\"\n",
              "            title=\"Suggest charts\"\n",
              "            style=\"display:none;\">\n",
              "\n",
              "<svg xmlns=\"http://www.w3.org/2000/svg\" height=\"24px\"viewBox=\"0 0 24 24\"\n",
              "     width=\"24px\">\n",
              "    <g>\n",
              "        <path d=\"M19 3H5c-1.1 0-2 .9-2 2v14c0 1.1.9 2 2 2h14c1.1 0 2-.9 2-2V5c0-1.1-.9-2-2-2zM9 17H7v-7h2v7zm4 0h-2V7h2v10zm4 0h-2v-4h2v4z\"/>\n",
              "    </g>\n",
              "</svg>\n",
              "  </button>\n",
              "\n",
              "<style>\n",
              "  .colab-df-quickchart {\n",
              "      --bg-color: #E8F0FE;\n",
              "      --fill-color: #1967D2;\n",
              "      --hover-bg-color: #E2EBFA;\n",
              "      --hover-fill-color: #174EA6;\n",
              "      --disabled-fill-color: #AAA;\n",
              "      --disabled-bg-color: #DDD;\n",
              "  }\n",
              "\n",
              "  [theme=dark] .colab-df-quickchart {\n",
              "      --bg-color: #3B4455;\n",
              "      --fill-color: #D2E3FC;\n",
              "      --hover-bg-color: #434B5C;\n",
              "      --hover-fill-color: #FFFFFF;\n",
              "      --disabled-bg-color: #3B4455;\n",
              "      --disabled-fill-color: #666;\n",
              "  }\n",
              "\n",
              "  .colab-df-quickchart {\n",
              "    background-color: var(--bg-color);\n",
              "    border: none;\n",
              "    border-radius: 50%;\n",
              "    cursor: pointer;\n",
              "    display: none;\n",
              "    fill: var(--fill-color);\n",
              "    height: 32px;\n",
              "    padding: 0;\n",
              "    width: 32px;\n",
              "  }\n",
              "\n",
              "  .colab-df-quickchart:hover {\n",
              "    background-color: var(--hover-bg-color);\n",
              "    box-shadow: 0 1px 2px rgba(60, 64, 67, 0.3), 0 1px 3px 1px rgba(60, 64, 67, 0.15);\n",
              "    fill: var(--button-hover-fill-color);\n",
              "  }\n",
              "\n",
              "  .colab-df-quickchart-complete:disabled,\n",
              "  .colab-df-quickchart-complete:disabled:hover {\n",
              "    background-color: var(--disabled-bg-color);\n",
              "    fill: var(--disabled-fill-color);\n",
              "    box-shadow: none;\n",
              "  }\n",
              "\n",
              "  .colab-df-spinner {\n",
              "    border: 2px solid var(--fill-color);\n",
              "    border-color: transparent;\n",
              "    border-bottom-color: var(--fill-color);\n",
              "    animation:\n",
              "      spin 1s steps(1) infinite;\n",
              "  }\n",
              "\n",
              "  @keyframes spin {\n",
              "    0% {\n",
              "      border-color: transparent;\n",
              "      border-bottom-color: var(--fill-color);\n",
              "      border-left-color: var(--fill-color);\n",
              "    }\n",
              "    20% {\n",
              "      border-color: transparent;\n",
              "      border-left-color: var(--fill-color);\n",
              "      border-top-color: var(--fill-color);\n",
              "    }\n",
              "    30% {\n",
              "      border-color: transparent;\n",
              "      border-left-color: var(--fill-color);\n",
              "      border-top-color: var(--fill-color);\n",
              "      border-right-color: var(--fill-color);\n",
              "    }\n",
              "    40% {\n",
              "      border-color: transparent;\n",
              "      border-right-color: var(--fill-color);\n",
              "      border-top-color: var(--fill-color);\n",
              "    }\n",
              "    60% {\n",
              "      border-color: transparent;\n",
              "      border-right-color: var(--fill-color);\n",
              "    }\n",
              "    80% {\n",
              "      border-color: transparent;\n",
              "      border-right-color: var(--fill-color);\n",
              "      border-bottom-color: var(--fill-color);\n",
              "    }\n",
              "    90% {\n",
              "      border-color: transparent;\n",
              "      border-bottom-color: var(--fill-color);\n",
              "    }\n",
              "  }\n",
              "</style>\n",
              "\n",
              "  <script>\n",
              "    async function quickchart(key) {\n",
              "      const quickchartButtonEl =\n",
              "        document.querySelector('#' + key + ' button');\n",
              "      quickchartButtonEl.disabled = true;  // To prevent multiple clicks.\n",
              "      quickchartButtonEl.classList.add('colab-df-spinner');\n",
              "      try {\n",
              "        const charts = await google.colab.kernel.invokeFunction(\n",
              "            'suggestCharts', [key], {});\n",
              "      } catch (error) {\n",
              "        console.error('Error during call to suggestCharts:', error);\n",
              "      }\n",
              "      quickchartButtonEl.classList.remove('colab-df-spinner');\n",
              "      quickchartButtonEl.classList.add('colab-df-quickchart-complete');\n",
              "    }\n",
              "    (() => {\n",
              "      let quickchartButtonEl =\n",
              "        document.querySelector('#df-8c72cbb8-bb0a-47df-a68a-2a0374e50ca3 button');\n",
              "      quickchartButtonEl.style.display =\n",
              "        google.colab.kernel.accessAllowed ? 'block' : 'none';\n",
              "    })();\n",
              "  </script>\n",
              "</div>\n",
              "\n",
              "    </div>\n",
              "  </div>\n"
            ],
            "application/vnd.google.colaboratory.intrinsic+json": {
              "type": "dataframe",
              "summary": "{\n  \"name\": \"df\",\n  \"rows\": 8,\n  \"fields\": [\n    {\n      \"column\": \"gpa\",\n      \"properties\": {\n        \"dtype\": \"number\",\n        \"std\": 2188.9214406200435,\n        \"min\": 0.15154111487341537,\n        \"max\": 6194.0,\n        \"num_unique_values\": 8,\n        \"samples\": [\n          3.2507135938004517,\n          3.25,\n          6194.0\n        ],\n        \"semantic_type\": \"\",\n        \"description\": \"\"\n      }\n    },\n    {\n      \"column\": \"gmat\",\n      \"properties\": {\n        \"dtype\": \"number\",\n        \"std\": 2000.609497073354,\n        \"min\": 49.29488348551102,\n        \"max\": 6194.0,\n        \"num_unique_values\": 8,\n        \"samples\": [\n          651.0929932192445,\n          650.0,\n          6194.0\n        ],\n        \"semantic_type\": \"\",\n        \"description\": \"\"\n      }\n    },\n    {\n      \"column\": \"work_exp\",\n      \"properties\": {\n        \"dtype\": \"number\",\n        \"std\": 2188.3430214381874,\n        \"min\": 1.0,\n        \"max\": 6194.0,\n        \"num_unique_values\": 8,\n        \"samples\": [\n          5.0169518889247655,\n          5.0,\n          6194.0\n        ],\n        \"semantic_type\": \"\",\n        \"description\": \"\"\n      }\n    }\n  ]\n}"
            }
          },
          "metadata": {},
          "execution_count": 9
        }
      ]
    },
    {
      "cell_type": "code",
      "source": [
        "# get categorical columns only\n",
        "\n",
        "categorical_columns = df.select_dtypes(include=['object', 'category'])\n",
        "\n",
        "# List of unique value of each categorical columns\n",
        "\n",
        "for col in categorical_columns:\n",
        "    unique_values = df[col].unique()\n",
        "    print(f\"Unique values in {col}: {unique_values}\")"
      ],
      "metadata": {
        "colab": {
          "base_uri": "https://localhost:8080/"
        },
        "id": "TwfFUj8beOD4",
        "outputId": "f8411858-f2b8-4096-c517-4f60240e5857"
      },
      "execution_count": 10,
      "outputs": [
        {
          "output_type": "stream",
          "name": "stdout",
          "text": [
            "Unique values in gender: ['Female' 'Male']\n",
            "Unique values in major: ['Business' 'Humanities' 'STEM']\n",
            "Unique values in race: ['Asian' 'Black' nan 'Hispanic' 'White' 'Other']\n",
            "Unique values in work_industry: ['Financial Services' 'Investment Management' 'Technology' 'Consulting'\n",
            " 'Nonprofit/Gov' 'PE/VC' 'Health Care' 'Investment Banking' 'Other'\n",
            " 'Retail' 'Energy' 'CPG' 'Real Estate' 'Media/Entertainment']\n",
            "Unique values in admission: ['Admit' nan 'Waitlist']\n"
          ]
        }
      ]
    },
    {
      "cell_type": "code",
      "source": [
        "# the distribution of target variable\n",
        "\n",
        "distribution = df['admission'].value_counts()\n",
        "print(distribution)"
      ],
      "metadata": {
        "colab": {
          "base_uri": "https://localhost:8080/"
        },
        "id": "6Jk0itBtenWo",
        "outputId": "07e0021e-30b3-4eec-b7bc-a07c20674cfa"
      },
      "execution_count": 11,
      "outputs": [
        {
          "output_type": "stream",
          "name": "stdout",
          "text": [
            "admission\n",
            "Admit       900\n",
            "Waitlist    100\n",
            "Name: count, dtype: int64\n"
          ]
        }
      ]
    },
    {
      "cell_type": "code",
      "source": [
        "# plot the distribution of target variable\n",
        "\n",
        "sns.countplot(x='admission', data=df)\n",
        "plt.title('Distribution of Target Variable')\n",
        "plt.xlabel('Admission')\n",
        "plt.ylabel('Count')\n",
        "plt.show()"
      ],
      "metadata": {
        "colab": {
          "base_uri": "https://localhost:8080/",
          "height": 472
        },
        "id": "gqtokk1Yf82C",
        "outputId": "3a55d122-3afb-41a8-e4ae-9e8d060a6efb"
      },
      "execution_count": 12,
      "outputs": [
        {
          "output_type": "display_data",
          "data": {
            "text/plain": [
              "<Figure size 640x480 with 1 Axes>"
            ],
            "image/png": "[encoded data removed]"
          },
          "metadata": {}
        }
      ]
    },
    {
      "cell_type": "code",
      "source": [
        "# pairplot for dataframe\n",
        "data = df.drop('admission', axis=1)\n",
        "sns.pairplot(data)\n",
        "plt.suptitle('Pairplot of Data', y=1.02)\n",
        "plt.show()"
      ],
      "metadata": {
        "colab": {
          "base_uri": "https://localhost:8080/",
          "height": 0
        },
        "id": "GzemrMYPgITW",
        "outputId": "e606a53a-a48b-4bb2-f991-f84ea17356a8"
      },
      "execution_count": 13,
      "outputs": [
        {
          "output_type": "display_data",
          "data": {
            "text/plain": [
              "<Figure size 1000x1000 with 20 Axes>"
            ],
            "image/png": "[encoded data removed]"
          },
          "metadata": {}
        }
      ]
    },
    {
      "cell_type": "code",
      "source": [
        "#Craeting Heatmap\n",
        "# selecting onlu numerical columns\n",
        "\n",
        "numeric_data = data.select_dtypes(include=['float64','int64'])\n",
        "\n",
        "# correlation matix\n",
        "\n",
        "corr = numeric_data.corr()\n",
        "\n",
        "plt.figure(figsize=(10, 8))\n",
        "sns.heatmap(corr, annot=True, cmap='coolwarm' , linewidths=0.5)\n",
        "plt.title('Heatmap of Correlation Matrix')\n",
        "plt.show()"
      ],
      "metadata": {
        "colab": {
          "base_uri": "https://localhost:8080/",
          "height": 0
        },
        "id": "0w4ibToKgpkQ",
        "outputId": "26522713-8587-4ac6-b087-3dd916e2b2a4"
      },
      "execution_count": 14,
      "outputs": [
        {
          "output_type": "display_data",
          "data": {
            "text/plain": [
              "<Figure size 1000x800 with 2 Axes>"
            ],
            "image/png": "[encoded data removed]"
          },
          "metadata": {}
        }
      ]
    },
    {
      "cell_type": "markdown",
      "source": [
        "# Data preparation"
      ],
      "metadata": {
        "id": "V2uRE6CK6FTr"
      }
    },
    {
      "cell_type": "code",
      "source": [
        "df.head()\n",
        "\n",
        "\n",
        "\n",
        "\n"
      ],
      "metadata": {
        "colab": {
          "base_uri": "https://localhost:8080/",
          "height": 0
        },
        "id": "j9vyEJEr6OBL",
        "outputId": "c763f189-0e5d-45cf-8ac7-251ee01d9ed5"
      },
      "execution_count": 15,
      "outputs": [
        {
          "output_type": "execute_result",
          "data": {
            "text/plain": [
              "   gender  international   gpa       major      race   gmat  work_exp  \\\n",
              "0  Female          False  3.30    Business     Asian  620.0       3.0   \n",
              "1    Male          False  3.28  Humanities     Black  680.0       5.0   \n",
              "2  Female           True  3.30    Business       NaN  710.0       5.0   \n",
              "3    Male          False  3.47        STEM     Black  690.0       6.0   \n",
              "4    Male          False  3.35        STEM  Hispanic  590.0       5.0   \n",
              "\n",
              "           work_industry admission  \n",
              "0     Financial Services     Admit  \n",
              "1  Investment Management       NaN  \n",
              "2             Technology     Admit  \n",
              "3             Technology       NaN  \n",
              "4             Consulting       NaN  "
            ],
            "text/html": [
              "\n",
              "  <div id=\"df-583d0db2-c2ae-4025-a5d6-fe02ec77f438\" class=\"colab-df-container\">\n",
              "    <div>\n",
              "<style scoped>\n",
              "    .dataframe tbody tr th:only-of-type {\n",
              "        vertical-align: middle;\n",
              "    }\n",
              "\n",
              "    .dataframe tbody tr th {\n",
              "        vertical-align: top;\n",
              "    }\n",
              "\n",
              "    .dataframe thead th {\n",
              "        text-align: right;\n",
              "    }\n",
              "</style>\n",
              "<table border=\"1\" class=\"dataframe\">\n",
              "  <thead>\n",
              "    <tr style=\"text-align: right;\">\n",
              "      <th></th>\n",
              "      <th>gender</th>\n",
              "      <th>international</th>\n",
              "      <th>gpa</th>\n",
              "      <th>major</th>\n",
              "      <th>race</th>\n",
              "      <th>gmat</th>\n",
              "      <th>work_exp</th>\n",
              "      <th>work_industry</th>\n",
              "      <th>admission</th>\n",
              "    </tr>\n",
              "  </thead>\n",
              "  <tbody>\n",
              "    <tr>\n",
              "      <th>0</th>\n",
              "      <td>Female</td>\n",
              "      <td>False</td>\n",
              "      <td>3.30</td>\n",
              "      <td>Business</td>\n",
              "      <td>Asian</td>\n",
              "      <td>620.0</td>\n",
              "      <td>3.0</td>\n",
              "      <td>Financial Services</td>\n",
              "      <td>Admit</td>\n",
              "    </tr>\n",
              "    <tr>\n",
              "      <th>1</th>\n",
              "      <td>Male</td>\n",
              "      <td>False</td>\n",
              "      <td>3.28</td>\n",
              "      <td>Humanities</td>\n",
              "      <td>Black</td>\n",
              "      <td>680.0</td>\n",
              "      <td>5.0</td>\n",
              "      <td>Investment Management</td>\n",
              "      <td>NaN</td>\n",
              "    </tr>\n",
              "    <tr>\n",
              "      <th>2</th>\n",
              "      <td>Female</td>\n",
              "      <td>True</td>\n",
              "      <td>3.30</td>\n",
              "      <td>Business</td>\n",
              "      <td>NaN</td>\n",
              "      <td>710.0</td>\n",
              "      <td>5.0</td>\n",
              "      <td>Technology</td>\n",
              "      <td>Admit</td>\n",
              "    </tr>\n",
              "    <tr>\n",
              "      <th>3</th>\n",
              "      <td>Male</td>\n",
              "      <td>False</td>\n",
              "      <td>3.47</td>\n",
              "      <td>STEM</td>\n",
              "      <td>Black</td>\n",
              "      <td>690.0</td>\n",
              "      <td>6.0</td>\n",
              "      <td>Technology</td>\n",
              "      <td>NaN</td>\n",
              "    </tr>\n",
              "    <tr>\n",
              "      <th>4</th>\n",
              "      <td>Male</td>\n",
              "      <td>False</td>\n",
              "      <td>3.35</td>\n",
              "      <td>STEM</td>\n",
              "      <td>Hispanic</td>\n",
              "      <td>590.0</td>\n",
              "      <td>5.0</td>\n",
              "      <td>Consulting</td>\n",
              "      <td>NaN</td>\n",
              "    </tr>\n",
              "  </tbody>\n",
              "</table>\n",
              "</div>\n",
              "    <div class=\"colab-df-buttons\">\n",
              "\n",
              "  <div class=\"colab-df-container\">\n",
              "    <button class=\"colab-df-convert\" onclick=\"convertToInteractive('df-583d0db2-c2ae-4025-a5d6-fe02ec77f438')\"\n",
              "            title=\"Convert this dataframe to an interactive table.\"\n",
              "            style=\"display:none;\">\n",
              "\n",
              "  <svg xmlns=\"http://www.w3.org/2000/svg\" height=\"24px\" viewBox=\"0 -960 960 960\">\n",
              "    <path d=\"M120-120v-720h720v720H120Zm60-500h600v-160H180v160Zm220 220h160v-160H400v160Zm0 220h160v-160H400v160ZM180-400h160v-160H180v160Zm440 0h160v-160H620v160ZM180-180h160v-160H180v160Zm440 0h160v-160H620v160Z\"/>\n",
              "  </svg>\n",
              "    </button>\n",
              "\n",
              "  <style>\n",
              "    .colab-df-container {\n",
              "      display:flex;\n",
              "      gap: 12px;\n",
              "    }\n",
              "\n",
              "    .colab-df-convert {\n",
              "      background-color: #E8F0FE;\n",
              "      border: none;\n",
              "      border-radius: 50%;\n",
              "      cursor: pointer;\n",
              "      display: none;\n",
              "      fill: #1967D2;\n",
              "      height: 32px;\n",
              "      padding: 0 0 0 0;\n",
              "      width: 32px;\n",
              "    }\n",
              "\n",
              "    .colab-df-convert:hover {\n",
              "      background-color: #E2EBFA;\n",
              "      box-shadow: 0px 1px 2px rgba(60, 64, 67, 0.3), 0px 1px 3px 1px rgba(60, 64, 67, 0.15);\n",
              "      fill: #174EA6;\n",
              "    }\n",
              "\n",
              "    .colab-df-buttons div {\n",
              "      margin-bottom: 4px;\n",
              "    }\n",
              "\n",
              "    [theme=dark] .colab-df-convert {\n",
              "      background-color: #3B4455;\n",
              "      fill: #D2E3FC;\n",
              "    }\n",
              "\n",
              "    [theme=dark] .colab-df-convert:hover {\n",
              "      background-color: #434B5C;\n",
              "      box-shadow: 0px 1px 3px 1px rgba(0, 0, 0, 0.15);\n",
              "      filter: drop-shadow(0px 1px 2px rgba(0, 0, 0, 0.3));\n",
              "      fill: #FFFFFF;\n",
              "    }\n",
              "  </style>\n",
              "\n",
              "    <script>\n",
              "      const buttonEl =\n",
              "        document.querySelector('#df-583d0db2-c2ae-4025-a5d6-fe02ec77f438 button.colab-df-convert');\n",
              "      buttonEl.style.display =\n",
              "        google.colab.kernel.accessAllowed ? 'block' : 'none';\n",
              "\n",
              "      async function convertToInteractive(key) {\n",
              "        const element = document.querySelector('#df-583d0db2-c2ae-4025-a5d6-fe02ec77f438');\n",
              "        const dataTable =\n",
              "          await google.colab.kernel.invokeFunction('convertToInteractive',\n",
              "                                                    [key], {});\n",
              "        if (!dataTable) return;\n",
              "\n",
              "        const docLinkHtml = 'Like what you see? Visit the ' +\n",
              "          '<a target=\"_blank\" href=https://colab.research.google.com/notebooks/data_table.ipynb>data table notebook</a>'\n",
              "          + ' to learn more about interactive tables.';\n",
              "        element.innerHTML = '';\n",
              "        dataTable['output_type'] = 'display_data';\n",
              "        await google.colab.output.renderOutput(dataTable, element);\n",
              "        const docLink = document.createElement('div');\n",
              "        docLink.innerHTML = docLinkHtml;\n",
              "        element.appendChild(docLink);\n",
              "      }\n",
              "    </script>\n",
              "  </div>\n",
              "\n",
              "\n",
              "<div id=\"df-961c2c15-0733-478d-90b1-0e742284c47b\">\n",
              "  <button class=\"colab-df-quickchart\" onclick=\"quickchart('df-961c2c15-0733-478d-90b1-0e742284c47b')\"\n",
              "            title=\"Suggest charts\"\n",
              "            style=\"display:none;\">\n",
              "\n",
              "<svg xmlns=\"http://www.w3.org/2000/svg\" height=\"24px\"viewBox=\"0 0 24 24\"\n",
              "     width=\"24px\">\n",
              "    <g>\n",
              "        <path d=\"M19 3H5c-1.1 0-2 .9-2 2v14c0 1.1.9 2 2 2h14c1.1 0 2-.9 2-2V5c0-1.1-.9-2-2-2zM9 17H7v-7h2v7zm4 0h-2V7h2v10zm4 0h-2v-4h2v4z\"/>\n",
              "    </g>\n",
              "</svg>\n",
              "  </button>\n",
              "\n",
              "<style>\n",
              "  .colab-df-quickchart {\n",
              "      --bg-color: #E8F0FE;\n",
              "      --fill-color: #1967D2;\n",
              "      --hover-bg-color: #E2EBFA;\n",
              "      --hover-fill-color: #174EA6;\n",
              "      --disabled-fill-color: #AAA;\n",
              "      --disabled-bg-color: #DDD;\n",
              "  }\n",
              "\n",
              "  [theme=dark] .colab-df-quickchart {\n",
              "      --bg-color: #3B4455;\n",
              "      --fill-color: #D2E3FC;\n",
              "      --hover-bg-color: #434B5C;\n",
              "      --hover-fill-color: #FFFFFF;\n",
              "      --disabled-bg-color: #3B4455;\n",
              "      --disabled-fill-color: #666;\n",
              "  }\n",
              "\n",
              "  .colab-df-quickchart {\n",
              "    background-color: var(--bg-color);\n",
              "    border: none;\n",
              "    border-radius: 50%;\n",
              "    cursor: pointer;\n",
              "    display: none;\n",
              "    fill: var(--fill-color);\n",
              "    height: 32px;\n",
              "    padding: 0;\n",
              "    width: 32px;\n",
              "  }\n",
              "\n",
              "  .colab-df-quickchart:hover {\n",
              "    background-color: var(--hover-bg-color);\n",
              "    box-shadow: 0 1px 2px rgba(60, 64, 67, 0.3), 0 1px 3px 1px rgba(60, 64, 67, 0.15);\n",
              "    fill: var(--button-hover-fill-color);\n",
              "  }\n",
              "\n",
              "  .colab-df-quickchart-complete:disabled,\n",
              "  .colab-df-quickchart-complete:disabled:hover {\n",
              "    background-color: var(--disabled-bg-color);\n",
              "    fill: var(--disabled-fill-color);\n",
              "    box-shadow: none;\n",
              "  }\n",
              "\n",
              "  .colab-df-spinner {\n",
              "    border: 2px solid var(--fill-color);\n",
              "    border-color: transparent;\n",
              "    border-bottom-color: var(--fill-color);\n",
              "    animation:\n",
              "      spin 1s steps(1) infinite;\n",
              "  }\n",
              "\n",
              "  @keyframes spin {\n",
              "    0% {\n",
              "      border-color: transparent;\n",
              "      border-bottom-color: var(--fill-color);\n",
              "      border-left-color: var(--fill-color);\n",
              "    }\n",
              "    20% {\n",
              "      border-color: transparent;\n",
              "      border-left-color: var(--fill-color);\n",
              "      border-top-color: var(--fill-color);\n",
              "    }\n",
              "    30% {\n",
              "      border-color: transparent;\n",
              "      border-left-color: var(--fill-color);\n",
              "      border-top-color: var(--fill-color);\n",
              "      border-right-color: var(--fill-color);\n",
              "    }\n",
              "    40% {\n",
              "      border-color: transparent;\n",
              "      border-right-color: var(--fill-color);\n",
              "      border-top-color: var(--fill-color);\n",
              "    }\n",
              "    60% {\n",
              "      border-color: transparent;\n",
              "      border-right-color: var(--fill-color);\n",
              "    }\n",
              "    80% {\n",
              "      border-color: transparent;\n",
              "      border-right-color: var(--fill-color);\n",
              "      border-bottom-color: var(--fill-color);\n",
              "    }\n",
              "    90% {\n",
              "      border-color: transparent;\n",
              "      border-bottom-color: var(--fill-color);\n",
              "    }\n",
              "  }\n",
              "</style>\n",
              "\n",
              "  <script>\n",
              "    async function quickchart(key) {\n",
              "      const quickchartButtonEl =\n",
              "        document.querySelector('#' + key + ' button');\n",
              "      quickchartButtonEl.disabled = true;  // To prevent multiple clicks.\n",
              "      quickchartButtonEl.classList.add('colab-df-spinner');\n",
              "      try {\n",
              "        const charts = await google.colab.kernel.invokeFunction(\n",
              "            'suggestCharts', [key], {});\n",
              "      } catch (error) {\n",
              "        console.error('Error during call to suggestCharts:', error);\n",
              "      }\n",
              "      quickchartButtonEl.classList.remove('colab-df-spinner');\n",
              "      quickchartButtonEl.classList.add('colab-df-quickchart-complete');\n",
              "    }\n",
              "    (() => {\n",
              "      let quickchartButtonEl =\n",
              "        document.querySelector('#df-961c2c15-0733-478d-90b1-0e742284c47b button');\n",
              "      quickchartButtonEl.style.display =\n",
              "        google.colab.kernel.accessAllowed ? 'block' : 'none';\n",
              "    })();\n",
              "  </script>\n",
              "</div>\n",
              "\n",
              "    </div>\n",
              "  </div>\n"
            ],
            "application/vnd.google.colaboratory.intrinsic+json": {
              "type": "dataframe",
              "variable_name": "df",
              "summary": "{\n  \"name\": \"df\",\n  \"rows\": 6194,\n  \"fields\": [\n    {\n      \"column\": \"gender\",\n      \"properties\": {\n        \"dtype\": \"category\",\n        \"num_unique_values\": 2,\n        \"samples\": [\n          \"Male\",\n          \"Female\"\n        ],\n        \"semantic_type\": \"\",\n        \"description\": \"\"\n      }\n    },\n    {\n      \"column\": \"international\",\n      \"properties\": {\n        \"dtype\": \"boolean\",\n        \"num_unique_values\": 2,\n        \"samples\": [\n          true,\n          false\n        ],\n        \"semantic_type\": \"\",\n        \"description\": \"\"\n      }\n    },\n    {\n      \"column\": \"gpa\",\n      \"properties\": {\n        \"dtype\": \"number\",\n        \"std\": 0.15154111487341537,\n        \"min\": 2.65,\n        \"max\": 3.77,\n        \"num_unique_values\": 101,\n        \"samples\": [\n          2.81,\n          2.97\n        ],\n        \"semantic_type\": \"\",\n        \"description\": \"\"\n      }\n    },\n    {\n      \"column\": \"major\",\n      \"properties\": {\n        \"dtype\": \"category\",\n        \"num_unique_values\": 3,\n        \"samples\": [\n          \"Business\",\n          \"Humanities\"\n        ],\n        \"semantic_type\": \"\",\n        \"description\": \"\"\n      }\n    },\n    {\n      \"column\": \"race\",\n      \"properties\": {\n        \"dtype\": \"category\",\n        \"num_unique_values\": 5,\n        \"samples\": [\n          \"Black\",\n          \"Other\"\n        ],\n        \"semantic_type\": \"\",\n        \"description\": \"\"\n      }\n    },\n    {\n      \"column\": \"gmat\",\n      \"properties\": {\n        \"dtype\": \"number\",\n        \"std\": 49.29488348551102,\n        \"min\": 570.0,\n        \"max\": 780.0,\n        \"num_unique_values\": 22,\n        \"samples\": [\n          620.0,\n          730.0\n        ],\n        \"semantic_type\": \"\",\n        \"description\": \"\"\n      }\n    },\n    {\n      \"column\": \"work_exp\",\n      \"properties\": {\n        \"dtype\": \"number\",\n        \"std\": 1.0324322571092026,\n        \"min\": 1.0,\n        \"max\": 9.0,\n        \"num_unique_values\": 9,\n        \"samples\": [\n          9.0,\n          5.0\n        ],\n        \"semantic_type\": \"\",\n        \"description\": \"\"\n      }\n    },\n    {\n      \"column\": \"work_industry\",\n      \"properties\": {\n        \"dtype\": \"category\",\n        \"num_unique_values\": 14,\n        \"samples\": [\n          \"Retail\",\n          \"CPG\"\n        ],\n        \"semantic_type\": \"\",\n        \"description\": \"\"\n      }\n    },\n    {\n      \"column\": \"admission\",\n      \"properties\": {\n        \"dtype\": \"category\",\n        \"num_unique_values\": 2,\n        \"samples\": [\n          \"Waitlist\",\n          \"Admit\"\n        ],\n        \"semantic_type\": \"\",\n        \"description\": \"\"\n      }\n    }\n  ]\n}"
            }
          },
          "metadata": {},
          "execution_count": 15
        }
      ]
    },
    {
      "cell_type": "code",
      "source": [
        "# Map 'male' to 1 and 'female' to 0\n",
        "df['gender'] = df['gender'].map({'Male': 1, 'Female': 0})\n",
        "\n",
        "# Check if the mapping worked correctly\n",
        "print(df.head())"
      ],
      "metadata": {
        "colab": {
          "base_uri": "https://localhost:8080/"
        },
        "id": "NR0Kyg5x6Q3x",
        "outputId": "62ebf005-d2ea-461b-9e2c-f165ad864f57"
      },
      "execution_count": 16,
      "outputs": [
        {
          "output_type": "stream",
          "name": "stdout",
          "text": [
            "   gender  international   gpa       major      race   gmat  work_exp  \\\n",
            "0       0          False  3.30    Business     Asian  620.0       3.0   \n",
            "1       1          False  3.28  Humanities     Black  680.0       5.0   \n",
            "2       0           True  3.30    Business       NaN  710.0       5.0   \n",
            "3       1          False  3.47        STEM     Black  690.0       6.0   \n",
            "4       1          False  3.35        STEM  Hispanic  590.0       5.0   \n",
            "\n",
            "           work_industry admission  \n",
            "0     Financial Services     Admit  \n",
            "1  Investment Management       NaN  \n",
            "2             Technology     Admit  \n",
            "3             Technology       NaN  \n",
            "4             Consulting       NaN  \n"
          ]
        }
      ]
    },
    {
      "cell_type": "code",
      "source": [
        "#Admission\n",
        "# lets remove admission waitlist\n",
        "df = df[df['admission'] != 'waitlist']\n",
        "\n",
        "#Map 'Admit' to 1 and null or empty values to 0\n",
        "df['admission'] = df['admission'].map({'Admit': 1}).fillna(0)\n",
        "\n",
        "print(df.head())"
      ],
      "metadata": {
        "colab": {
          "base_uri": "https://localhost:8080/"
        },
        "id": "7S43TCOfjWJK",
        "outputId": "8e291564-56b8-4cc2-c8ec-1bc279f84138"
      },
      "execution_count": 17,
      "outputs": [
        {
          "output_type": "stream",
          "name": "stdout",
          "text": [
            "   gender  international   gpa       major      race   gmat  work_exp  \\\n",
            "0       0          False  3.30    Business     Asian  620.0       3.0   \n",
            "1       1          False  3.28  Humanities     Black  680.0       5.0   \n",
            "2       0           True  3.30    Business       NaN  710.0       5.0   \n",
            "3       1          False  3.47        STEM     Black  690.0       6.0   \n",
            "4       1          False  3.35        STEM  Hispanic  590.0       5.0   \n",
            "\n",
            "           work_industry  admission  \n",
            "0     Financial Services        1.0  \n",
            "1  Investment Management        0.0  \n",
            "2             Technology        1.0  \n",
            "3             Technology        0.0  \n",
            "4             Consulting        0.0  \n"
          ]
        }
      ]
    },
    {
      "cell_type": "code",
      "source": [
        "#SMOTE to oversampling\n",
        "#sepatare the faeture (X) and target (Y)\n",
        "\n",
        "SMOTE_X = df.drop('admission', axis=1)\n",
        "SMOTE_X = pd.get_dummies(SMOTE_X , drop_first = True)\n",
        "\n",
        "SMOTE_y = df['admission']"
      ],
      "metadata": {
        "id": "_-7EN4U0mETC"
      },
      "execution_count": 18,
      "outputs": []
    },
    {
      "cell_type": "code",
      "source": [
        "#Dimension reduction\n",
        "from sklearn.decomposition import PCA\n",
        "\n",
        "\n",
        "# Data Prep\n",
        "from imblearn.over_sampling import SMOTE\n",
        "from sklearn.model_selection import train_test_split, GridSearchCV\n",
        "from sklearn.metrics import classification_report\n",
        "from sklearn.preprocessing import StandardScaler"
      ],
      "metadata": {
        "id": "JlrTMNHNm5fS"
      },
      "execution_count": 19,
      "outputs": []
    },
    {
      "cell_type": "code",
      "source": [
        "# Apply SMOTE to oversample the minority class\n",
        "smote = SMOTE(random_state=42)\n",
        "X_resampled, y_resampled = smote.fit_resample(SMOTE_X, SMOTE_y)\n"
      ],
      "metadata": {
        "id": "lrVfYCVImwg6"
      },
      "execution_count": 20,
      "outputs": []
    },
    {
      "cell_type": "code",
      "source": [
        "# Combine resampled features and target back into a DataFrame\n",
        "df_balanced = pd.concat([pd.DataFrame(X_resampled, columns=SMOTE_X.columns), pd.DataFrame(y_resampled, columns=['admission'])], axis=1)\n"
      ],
      "metadata": {
        "id": "YxQsLta-mzKJ"
      },
      "execution_count": 21,
      "outputs": []
    },
    {
      "cell_type": "code",
      "source": [
        "# Shuffle the dataset\n",
        "df_balanced = df_balanced.sample(frac=1, random_state=42).reset_index(drop=True)\n",
        "\n",
        "# Verify class distribution\n",
        "print(df_balanced['admission'].value_counts())\n",
        "print(df_balanced.head())"
      ],
      "metadata": {
        "colab": {
          "base_uri": "https://localhost:8080/"
        },
        "id": "fw1dPz18nEFR",
        "outputId": "eed08264-5c7a-4520-d449-16b143ec47f3"
      },
      "execution_count": 22,
      "outputs": [
        {
          "output_type": "stream",
          "name": "stdout",
          "text": [
            "admission\n",
            "1.0    5294\n",
            "0.0    5294\n",
            "Name: count, dtype: int64\n",
            "   gender  international       gpa   gmat  work_exp  major_Humanities  \\\n",
            "0       1          False  3.444527  690.0       6.0              True   \n",
            "1       1          False  3.270000  690.0       4.0             False   \n",
            "2       0          False  3.120000  650.0       3.0             False   \n",
            "3       1          False  3.290000  640.0       6.0             False   \n",
            "4       1          False  3.150000  570.0       5.0              True   \n",
            "\n",
            "   major_STEM  race_Black  race_Hispanic  race_Other  ...  \\\n",
            "0       False        True          False       False  ...   \n",
            "1       False       False          False       False  ...   \n",
            "2       False        True          False       False  ...   \n",
            "3       False       False          False       False  ...   \n",
            "4       False       False          False       False  ...   \n",
            "\n",
            "   work_industry_Investment Banking  work_industry_Investment Management  \\\n",
            "0                             False                                False   \n",
            "1                             False                                False   \n",
            "2                             False                                False   \n",
            "3                              True                                False   \n",
            "4                             False                                False   \n",
            "\n",
            "   work_industry_Media/Entertainment  work_industry_Nonprofit/Gov  \\\n",
            "0                              False                        False   \n",
            "1                              False                         True   \n",
            "2                              False                        False   \n",
            "3                              False                        False   \n",
            "4                              False                        False   \n",
            "\n",
            "   work_industry_Other  work_industry_PE/VC  work_industry_Real Estate  \\\n",
            "0                False                 True                      False   \n",
            "1                False                False                      False   \n",
            "2                False                False                      False   \n",
            "3                False                False                      False   \n",
            "4                False                False                      False   \n",
            "\n",
            "   work_industry_Retail  work_industry_Technology  admission  \n",
            "0                 False                     False        1.0  \n",
            "1                 False                     False        0.0  \n",
            "2                 False                     False        0.0  \n",
            "3                 False                     False        0.0  \n",
            "4                 False                     False        0.0  \n",
            "\n",
            "[5 rows x 25 columns]\n"
          ]
        }
      ]
    },
    {
      "cell_type": "code",
      "source": [
        "# Select features and target variable\n",
        "X = df_balanced.drop('admission', axis = 1)\n",
        "X = pd.get_dummies(X, drop_first = True)  # Apply one-hot encoding to categorical variables\n",
        "y = df_balanced['admission']"
      ],
      "metadata": {
        "id": "SZER0CDPnF7Z"
      },
      "execution_count": 23,
      "outputs": []
    },
    {
      "cell_type": "code",
      "source": [
        "# Split the data for test\n",
        "X_org_train, X_test, y_org_train, y_test = train_test_split(X, y, test_size=0.4, random_state=42)\n",
        "# Split data for validation\n",
        "X_train, X_val, y_train, y_val = train_test_split(X_org_train, y_org_train, test_size=0.4, random_state=42)"
      ],
      "metadata": {
        "id": "KW5l1uzanLax"
      },
      "execution_count": 24,
      "outputs": []
    },
    {
      "cell_type": "code",
      "source": [
        "# Apply scaling to the combined dataset\n",
        "scaler = StandardScaler()\n",
        "X_train_scaled = scaler.fit_transform(X_train)\n",
        "X_val_scaled = scaler.transform(X_val)\n",
        "X_test_scaled = scaler.transform(X_test)"
      ],
      "metadata": {
        "id": "ZBQjhMdwnNYx"
      },
      "execution_count": 25,
      "outputs": []
    },
    {
      "cell_type": "markdown",
      "source": [
        "# MODELING"
      ],
      "metadata": {
        "id": "ou0KDLiTnQ8B"
      }
    },
    {
      "cell_type": "code",
      "source": [
        "# Modeling\n",
        "from sklearn.linear_model import LogisticRegression\n",
        "from sklearn.svm import SVC\n",
        "from sklearn.neighbors import KNeighborsClassifier\n",
        "from sklearn.naive_bayes import GaussianNB\n",
        "from sklearn.tree import DecisionTreeClassifier\n",
        "from xgboost import XGBClassifier\n",
        "from sklearn.ensemble import RandomForestClassifier, GradientBoostingClassifier, AdaBoostClassifier\n",
        "from sklearn.ensemble import VotingClassifier, StackingClassifier\n",
        "from sklearn.discriminant_analysis import QuadraticDiscriminantAnalysis"
      ],
      "metadata": {
        "id": "KlDQ0rCcoM-p"
      },
      "execution_count": 26,
      "outputs": []
    },
    {
      "cell_type": "code",
      "source": [
        "# Evaluation\n",
        "from sklearn.metrics import classification_report, accuracy_score, roc_auc_score\n",
        "from sklearn.metrics import roc_curve, auc, precision_score, f1_score, recall_score, confusion_matrix\n",
        "from sklearn.model_selection import cross_val_score\n",
        "from sklearn.preprocessing import label_binarize\n",
        "from sklearn.calibration import calibration_curve\n",
        "from sklearn.calibration import CalibratedClassifierCV"
      ],
      "metadata": {
        "id": "VzWyk8InoXjI"
      },
      "execution_count": 27,
      "outputs": []
    },
    {
      "cell_type": "code",
      "source": [
        "# DNN\n",
        "import tensorflow as tf\n",
        "from tensorflow.keras.models import Sequential\n",
        "from tensorflow.keras.layers import Dense\n",
        "from tensorflow.keras.callbacks import ReduceLROnPlateau\n",
        "from tensorflow.keras.callbacks import EarlyStopping, ReduceLROnPlateau"
      ],
      "metadata": {
        "id": "vV8lTy1Focjw"
      },
      "execution_count": 28,
      "outputs": []
    },
    {
      "cell_type": "code",
      "source": [
        "#lOGESTIC REGRESSION\n",
        "\n",
        "\n",
        "### Logistic regression ###\n",
        "# Initialize the logistic regression model\n",
        "log_lr = LogisticRegression(random_state=42)\n",
        "\n",
        "# Fit the model on the training data\n",
        "log_lr.fit(X_train_scaled, y_train)\n",
        "\n",
        "# Make predictions on the validation set\n",
        "y_lr_val_pred = log_lr.predict(X_val_scaled)\n",
        "val_lr_accuracy = accuracy_score(y_val, y_lr_val_pred)\n",
        "\n",
        "print(f\"Validation Accuracy: {val_lr_accuracy:.3%}\")\n",
        "\n"
      ],
      "metadata": {
        "colab": {
          "base_uri": "https://localhost:8080/"
        },
        "id": "PM_8BEROnPsh",
        "outputId": "5d8aecf3-08a6-4b85-b69e-9b22f25d9bd7"
      },
      "execution_count": 29,
      "outputs": [
        {
          "output_type": "stream",
          "name": "stdout",
          "text": [
            "Validation Accuracy: 82.881%\n"
          ]
        }
      ]
    },
    {
      "cell_type": "code",
      "source": [
        "## SVC\n",
        "svc_or = SVC(probability=True, random_state=42)\n",
        "\n",
        "# Fit the model on the training data\n",
        "svc_or.fit(X_train_scaled, y_train)\n",
        "\n",
        "# Make predictions on the validation set\n",
        "y_svc_val_pred = svc_or.predict(X_val_scaled)\n",
        "\n",
        "# Calculate the validation accuracy\n",
        "val_svc_accuracy = accuracy_score(y_val, y_svc_val_pred)\n",
        "\n",
        "print(f\"Validation Accuracy: {val_svc_accuracy:.3%}\")\n",
        "\n"
      ],
      "metadata": {
        "colab": {
          "base_uri": "https://localhost:8080/"
        },
        "id": "uvzB7zfDnfhK",
        "outputId": "96ddde0f-45f4-43a2-a997-01f5e5f50818"
      },
      "execution_count": 30,
      "outputs": [
        {
          "output_type": "stream",
          "name": "stdout",
          "text": [
            "Validation Accuracy: 84.770%\n"
          ]
        }
      ]
    },
    {
      "cell_type": "code",
      "source": [
        "### KNN ###\n",
        "\n",
        "knn = KNeighborsClassifier()\n",
        "param_grid = {'n_neighbors': np.arange(1, 31, 1), 'weights': ['uniform', 'distance']}\n",
        "grid_search_knn = GridSearchCV(knn, param_grid, cv=5, scoring='accuracy')\n",
        "grid_search_knn.fit(X_train_scaled, y_train)\n",
        "\n",
        "# Make predictions on the validation set\n",
        "y_knn_val_pred = grid_search_knn.predict(X_val_scaled)\n",
        "val_knn_accuracy = accuracy_score(y_val, y_knn_val_pred)\n",
        "\n",
        "print(f\"Best Parameters: {grid_search_knn.best_params_}\")\n",
        "print(f\"Validation Accuracy: {val_knn_accuracy:.3%}\")"
      ],
      "metadata": {
        "colab": {
          "base_uri": "https://localhost:8080/"
        },
        "id": "ynFeYcXro_o5",
        "outputId": "4f100ea2-b269-407e-d99a-2474fc3ab2a1"
      },
      "execution_count": 31,
      "outputs": [
        {
          "output_type": "stream",
          "name": "stdout",
          "text": [
            "Best Parameters: {'n_neighbors': 15, 'weights': 'distance'}\n",
            "Validation Accuracy: 82.684%\n"
          ]
        }
      ]
    },
    {
      "cell_type": "code",
      "source": [
        "### GaussianNB ###\n",
        "# Initialize the GaussianNB model\n",
        "gnb = GaussianNB()\n",
        "\n",
        "# Fit the model on the training data\n",
        "gnb.fit(X_train_scaled, y_train)\n",
        "\n",
        "# Make predictions on the validation set\n",
        "y_gnb_val_pred = gnb.predict(X_val_scaled)\n",
        "val_gnb_accuracy = accuracy_score(y_val, y_gnb_val_pred)\n",
        "\n",
        "print(f\"Validation Accuracy: {val_gnb_accuracy:.3%}\")"
      ],
      "metadata": {
        "colab": {
          "base_uri": "https://localhost:8080/"
        },
        "id": "sz3NPNmqpEvB",
        "outputId": "17d0c3ce-ec46-44e7-aecf-fe8f57811568"
      },
      "execution_count": 32,
      "outputs": [
        {
          "output_type": "stream",
          "name": "stdout",
          "text": [
            "Validation Accuracy: 76.505%\n"
          ]
        }
      ]
    },
    {
      "cell_type": "code",
      "source": [
        "### Decision tree ###\n",
        "dt = DecisionTreeClassifier(random_state=42)\n",
        "param_grid = {'max_depth': [3, 5, 10, None], 'min_samples_split': [2, 5, 7]}\n",
        "grid_search_dt = GridSearchCV(dt, param_grid, cv=5, scoring='accuracy')\n",
        "grid_search_dt.fit(X_train, y_train)\n",
        "\n",
        "# Make predictions on the validation set\n",
        "y_dt_val_pred = grid_search_dt.predict(X_val)\n",
        "val_dt_accuracy = accuracy_score(y_val, y_dt_val_pred)\n",
        "\n",
        "print(f\"Best Hyperparameters: {grid_search_dt.best_params_}\")\n",
        "print(f\"Validation Accuracy: {val_dt_accuracy:.3%}\")"
      ],
      "metadata": {
        "colab": {
          "base_uri": "https://localhost:8080/"
        },
        "id": "kIAqWk8xpLlR",
        "outputId": "7422e5ef-1602-4b46-97c9-9eb80a3af10c"
      },
      "execution_count": 33,
      "outputs": [
        {
          "output_type": "stream",
          "name": "stdout",
          "text": [
            "Best Hyperparameters: {'max_depth': 10, 'min_samples_split': 2}\n",
            "Validation Accuracy: 83.274%\n"
          ]
        }
      ]
    },
    {
      "cell_type": "code",
      "source": [
        "### Random Forest ###\n",
        "rf = RandomForestClassifier(random_state=42)\n",
        "param_grid = {'n_estimators': [50, 100, 150, 200], 'max_depth': [3, 5, 7, None]}\n",
        "grid_search_rf = GridSearchCV(rf, param_grid, cv=5, scoring='accuracy')\n",
        "grid_search_rf.fit(X_train, y_train)\n",
        "\n",
        "# Make predictions on the validation set\n",
        "y_rf_val_pred = grid_search_rf.predict(X_val)\n",
        "val_rf_accuracy = accuracy_score(y_val, y_rf_val_pred)\n",
        "\n",
        "print(f\"Best Hyperparameters: {grid_search_rf.best_params_}\")\n",
        "print(f\"Validation Accuracy: {val_rf_accuracy:.3%}\")"
      ],
      "metadata": {
        "colab": {
          "base_uri": "https://localhost:8080/"
        },
        "id": "32Qv_uKspN8o",
        "outputId": "f18e3257-c5c6-49bb-cb9c-24c793500f9a"
      },
      "execution_count": 34,
      "outputs": [
        {
          "output_type": "stream",
          "name": "stdout",
          "text": [
            "Best Hyperparameters: {'max_depth': None, 'n_estimators': 150}\n",
            "Validation Accuracy: 88.312%\n"
          ]
        }
      ]
    },
    {
      "cell_type": "code",
      "source": [
        "### GradientBoost ###\n",
        "gbm = GradientBoostingClassifier(random_state=42)\n",
        "param_grid = {'n_estimators': [50, 100, 150, 200], 'learning_rate': [0.001, 0.01, 0.1], 'max_depth': [3, 5, 7, None]}\n",
        "grid_search_gbm = GridSearchCV(gbm, param_grid, cv=5, scoring='accuracy')\n",
        "grid_search_gbm.fit(X_train, y_train)\n",
        "\n",
        "# Make predictions on the validation set\n",
        "y_gbm_val_pred = grid_search_gbm.predict(X_val)\n",
        "val_gbm_accuracy = accuracy_score(y_val, y_gbm_val_pred)\n",
        "\n",
        "print(f\"Best Hyperparameters: {grid_search_gbm.best_params_}\")\n",
        "print(f\"Validation Accuracy: {val_gbm_accuracy:.3%}\")"
      ],
      "metadata": {
        "colab": {
          "base_uri": "https://localhost:8080/"
        },
        "id": "EGx9ALuBuJ0J",
        "outputId": "8662dac7-8413-43ed-f843-33d8b2b9d224"
      },
      "execution_count": 35,
      "outputs": [
        {
          "output_type": "stream",
          "name": "stdout",
          "text": [
            "Best Hyperparameters: {'learning_rate': 0.1, 'max_depth': 7, 'n_estimators': 200}\n",
            "Validation Accuracy: 89.296%\n"
          ]
        }
      ]
    },
    {
      "cell_type": "code",
      "source": [
        "### AdaBoost ###\n",
        "# Initialize the AdaBoostClassifier\n",
        "ada = AdaBoostClassifier(random_state=42)\n",
        "\n",
        "# Define the parameter grid\n",
        "param_grid = {\n",
        "    'n_estimators': [50, 100, 150, 200],  # Number of boosting stages\n",
        "    }\n",
        "\n",
        "# Set up the grid search with cross-validation\n",
        "grid_search_ada = GridSearchCV(ada, param_grid, cv=5, scoring='accuracy')\n",
        "\n",
        "# Fit the model on the training data\n",
        "grid_search_ada.fit(X_train, y_train)\n",
        "\n",
        "# Make predictions on the validation set\n",
        "y_ada_val_pred = grid_search_ada.predict(X_val)\n",
        "val_ada_accuracy = accuracy_score(y_val, y_ada_val_pred)\n",
        "\n",
        "# Output the validation accuracy\n",
        "print(f\"Best Hyperparameters: {grid_search_ada.best_params_}\")\n",
        "print(f\"Validation Accuracy: {val_ada_accuracy:.3%}\")"
      ],
      "metadata": {
        "colab": {
          "base_uri": "https://localhost:8080/"
        },
        "id": "aY3kfN6GpijR",
        "outputId": "906d068a-75f5-46b5-d978-8d573e944cbe"
      },
      "execution_count": 36,
      "outputs": [
        {
          "output_type": "stream",
          "name": "stdout",
          "text": [
            "Best Hyperparameters: {'n_estimators': 200}\n",
            "Validation Accuracy: 87.721%\n"
          ]
        }
      ]
    },
    {
      "cell_type": "code",
      "source": [
        "### Define the MLP model ###\n",
        "model = Sequential([\n",
        "    Dense(128, input_shape=(X_train_scaled.shape[1],), activation='relu'),\n",
        "    Dense(64, activation='relu'),\n",
        "    Dense(1, activation='sigmoid')\n",
        "])\n",
        "\n",
        "# Compile the model\n",
        "model.compile(optimizer='adam',\n",
        "              loss='binary_crossentropy',\n",
        "              metrics=['accuracy'])\n",
        "\n",
        "# Define the learning rate scheduler callback\n",
        "reduce_lr = ReduceLROnPlateau(monitor='val_loss', factor=0.5, patience=3, min_lr=0.00001, verbose=1)\n",
        "\n",
        "# Define the early stopping callback\n",
        "early_stopping = EarlyStopping(monitor='val_loss', patience=5, restore_best_weights=True, verbose=1)\n",
        "\n",
        "# Train the model with the validation data and both callbacks\n",
        "history = model.fit(X_train_scaled, y_train,\n",
        "                    epochs=100,\n",
        "                    validation_data=(X_val_scaled, y_val),\n",
        "                    callbacks=[reduce_lr, early_stopping])\n",
        "\n",
        "# Evaluate the model on the validation set\n",
        "val_loss, val_accuracy = model.evaluate(X_val_scaled, y_val)\n",
        "print(f\"Validation Accuracy: {val_accuracy:.3%}\")"
      ],
      "metadata": {
        "colab": {
          "base_uri": "https://localhost:8080/"
        },
        "id": "VrgJCmhYqqqk",
        "outputId": "7ef40d1e-771b-4c50-d0a3-8db07278504d"
      },
      "execution_count": 37,
      "outputs": [
        {
          "output_type": "stream",
          "name": "stdout",
          "text": [
            "Epoch 1/100\n",
            "\u001b[1m120/120\u001b[0m \u001b[32m━━━━━━━━━━━━━━━━━━━━\u001b[0m\u001b[37m\u001b[0m \u001b[1m2s\u001b[0m 4ms/step - accuracy: 0.7083 - loss: 0.5633 - val_accuracy: 0.8308 - val_loss: 0.3920 - learning_rate: 0.0010\n",
            "Epoch 2/100\n",
            "\u001b[1m120/120\u001b[0m \u001b[32m━━━━━━━━━━━━━━━━━━━━\u001b[0m\u001b[37m\u001b[0m \u001b[1m1s\u001b[0m 4ms/step - accuracy: 0.8101 - loss: 0.4038 - val_accuracy: 0.8327 - val_loss: 0.3594 - learning_rate: 0.0010\n",
            "Epoch 3/100\n",
            "\u001b[1m120/120\u001b[0m \u001b[32m━━━━━━━━━━━━━━━━━━━━\u001b[0m\u001b[37m\u001b[0m \u001b[1m1s\u001b[0m 4ms/step - accuracy: 0.8322 - loss: 0.3547 - val_accuracy: 0.8359 - val_loss: 0.3450 - learning_rate: 0.0010\n",
            "Epoch 4/100\n",
            "\u001b[1m120/120\u001b[0m \u001b[32m━━━━━━━━━━━━━━━━━━━━\u001b[0m\u001b[37m\u001b[0m \u001b[1m1s\u001b[0m 4ms/step - accuracy: 0.8377 - loss: 0.3392 - val_accuracy: 0.8438 - val_loss: 0.3386 - learning_rate: 0.0010\n",
            "Epoch 5/100\n",
            "\u001b[1m120/120\u001b[0m \u001b[32m━━━━━━━━━━━━━━━━━━━━\u001b[0m\u001b[37m\u001b[0m \u001b[1m1s\u001b[0m 4ms/step - accuracy: 0.8568 - loss: 0.3088 - val_accuracy: 0.8418 - val_loss: 0.3340 - learning_rate: 0.0010\n",
            "Epoch 6/100\n",
            "\u001b[1m120/120\u001b[0m \u001b[32m━━━━━━━━━━━━━━━━━━━━\u001b[0m\u001b[37m\u001b[0m \u001b[1m1s\u001b[0m 4ms/step - accuracy: 0.8610 - loss: 0.2969 - val_accuracy: 0.8442 - val_loss: 0.3272 - learning_rate: 0.0010\n",
            "Epoch 7/100\n",
            "\u001b[1m120/120\u001b[0m \u001b[32m━━━━━━━━━━━━━━━━━━━━\u001b[0m\u001b[37m\u001b[0m \u001b[1m0s\u001b[0m 3ms/step - accuracy: 0.8756 - loss: 0.2736 - val_accuracy: 0.8449 - val_loss: 0.3256 - learning_rate: 0.0010\n",
            "Epoch 8/100\n",
            "\u001b[1m120/120\u001b[0m \u001b[32m━━━━━━━━━━━━━━━━━━━━\u001b[0m\u001b[37m\u001b[0m \u001b[1m0s\u001b[0m 2ms/step - accuracy: 0.8598 - loss: 0.2915 - val_accuracy: 0.8449 - val_loss: 0.3242 - learning_rate: 0.0010\n",
            "Epoch 9/100\n",
            "\u001b[1m120/120\u001b[0m \u001b[32m━━━━━━━━━━━━━━━━━━━━\u001b[0m\u001b[37m\u001b[0m \u001b[1m1s\u001b[0m 2ms/step - accuracy: 0.8733 - loss: 0.2695 - val_accuracy: 0.8501 - val_loss: 0.3167 - learning_rate: 0.0010\n",
            "Epoch 10/100\n",
            "\u001b[1m120/120\u001b[0m \u001b[32m━━━━━━━━━━━━━━━━━━━━\u001b[0m\u001b[37m\u001b[0m \u001b[1m1s\u001b[0m 3ms/step - accuracy: 0.8795 - loss: 0.2535 - val_accuracy: 0.8508 - val_loss: 0.3219 - learning_rate: 0.0010\n",
            "Epoch 11/100\n",
            "\u001b[1m120/120\u001b[0m \u001b[32m━━━━━━━━━━━━━━━━━━━━\u001b[0m\u001b[37m\u001b[0m \u001b[1m1s\u001b[0m 2ms/step - accuracy: 0.8807 - loss: 0.2562 - val_accuracy: 0.8528 - val_loss: 0.3217 - learning_rate: 0.0010\n",
            "Epoch 12/100\n",
            "\u001b[1m120/120\u001b[0m \u001b[32m━━━━━━━━━━━━━━━━━━━━\u001b[0m\u001b[37m\u001b[0m \u001b[1m1s\u001b[0m 3ms/step - accuracy: 0.8964 - loss: 0.2428 - val_accuracy: 0.8540 - val_loss: 0.3150 - learning_rate: 0.0010\n",
            "Epoch 13/100\n",
            "\u001b[1m120/120\u001b[0m \u001b[32m━━━━━━━━━━━━━━━━━━━━\u001b[0m\u001b[37m\u001b[0m \u001b[1m0s\u001b[0m 2ms/step - accuracy: 0.8911 - loss: 0.2355 - val_accuracy: 0.8505 - val_loss: 0.3167 - learning_rate: 0.0010\n",
            "Epoch 14/100\n",
            "\u001b[1m120/120\u001b[0m \u001b[32m━━━━━━━━━━━━━━━━━━━━\u001b[0m\u001b[37m\u001b[0m \u001b[1m1s\u001b[0m 2ms/step - accuracy: 0.8939 - loss: 0.2301 - val_accuracy: 0.8508 - val_loss: 0.3194 - learning_rate: 0.0010\n",
            "Epoch 15/100\n",
            "\u001b[1m104/120\u001b[0m \u001b[32m━━━━━━━━━━━━━━━━━\u001b[0m\u001b[37m━━━\u001b[0m \u001b[1m0s\u001b[0m 1ms/step - accuracy: 0.8971 - loss: 0.2413\n",
            "Epoch 15: ReduceLROnPlateau reducing learning rate to 0.0005000000237487257.\n",
            "\u001b[1m120/120\u001b[0m \u001b[32m━━━━━━━━━━━━━━━━━━━━\u001b[0m\u001b[37m\u001b[0m \u001b[1m0s\u001b[0m 3ms/step - accuracy: 0.8973 - loss: 0.2405 - val_accuracy: 0.8481 - val_loss: 0.3213 - learning_rate: 0.0010\n",
            "Epoch 16/100\n",
            "\u001b[1m120/120\u001b[0m \u001b[32m━━━━━━━━━━━━━━━━━━━━\u001b[0m\u001b[37m\u001b[0m \u001b[1m1s\u001b[0m 2ms/step - accuracy: 0.9112 - loss: 0.2069 - val_accuracy: 0.8552 - val_loss: 0.3127 - learning_rate: 5.0000e-04\n",
            "Epoch 17/100\n",
            "\u001b[1m120/120\u001b[0m \u001b[32m━━━━━━━━━━━━━━━━━━━━\u001b[0m\u001b[37m\u001b[0m \u001b[1m0s\u001b[0m 3ms/step - accuracy: 0.9111 - loss: 0.2038 - val_accuracy: 0.8552 - val_loss: 0.3136 - learning_rate: 5.0000e-04\n",
            "Epoch 18/100\n",
            "\u001b[1m120/120\u001b[0m \u001b[32m━━━━━━━━━━━━━━━━━━━━\u001b[0m\u001b[37m\u001b[0m \u001b[1m1s\u001b[0m 3ms/step - accuracy: 0.9112 - loss: 0.2061 - val_accuracy: 0.8567 - val_loss: 0.3130 - learning_rate: 5.0000e-04\n",
            "Epoch 19/100\n",
            "\u001b[1m107/120\u001b[0m \u001b[32m━━━━━━━━━━━━━━━━━\u001b[0m\u001b[37m━━━\u001b[0m \u001b[1m0s\u001b[0m 1ms/step - accuracy: 0.9194 - loss: 0.1927\n",
            "Epoch 19: ReduceLROnPlateau reducing learning rate to 0.0002500000118743628.\n",
            "\u001b[1m120/120\u001b[0m \u001b[32m━━━━━━━━━━━━━━━━━━━━\u001b[0m\u001b[37m\u001b[0m \u001b[1m0s\u001b[0m 3ms/step - accuracy: 0.9187 - loss: 0.1937 - val_accuracy: 0.8579 - val_loss: 0.3126 - learning_rate: 5.0000e-04\n",
            "Epoch 20/100\n",
            "\u001b[1m120/120\u001b[0m \u001b[32m━━━━━━━━━━━━━━━━━━━━\u001b[0m\u001b[37m\u001b[0m \u001b[1m0s\u001b[0m 2ms/step - accuracy: 0.9237 - loss: 0.1921 - val_accuracy: 0.8564 - val_loss: 0.3161 - learning_rate: 2.5000e-04\n",
            "Epoch 21/100\n",
            "\u001b[1m120/120\u001b[0m \u001b[32m━━━━━━━━━━━━━━━━━━━━\u001b[0m\u001b[37m\u001b[0m \u001b[1m0s\u001b[0m 3ms/step - accuracy: 0.9214 - loss: 0.1842 - val_accuracy: 0.8591 - val_loss: 0.3154 - learning_rate: 2.5000e-04\n",
            "Epoch 22/100\n",
            "\u001b[1m 99/120\u001b[0m \u001b[32m━━━━━━━━━━━━━━━━\u001b[0m\u001b[37m━━━━\u001b[0m \u001b[1m0s\u001b[0m 2ms/step - accuracy: 0.9339 - loss: 0.1803\n",
            "Epoch 22: ReduceLROnPlateau reducing learning rate to 0.0001250000059371814.\n",
            "\u001b[1m120/120\u001b[0m \u001b[32m━━━━━━━━━━━━━━━━━━━━\u001b[0m\u001b[37m\u001b[0m \u001b[1m0s\u001b[0m 3ms/step - accuracy: 0.9320 - loss: 0.1816 - val_accuracy: 0.8556 - val_loss: 0.3149 - learning_rate: 2.5000e-04\n",
            "Epoch 23/100\n",
            "\u001b[1m120/120\u001b[0m \u001b[32m━━━━━━━━━━━━━━━━━━━━\u001b[0m\u001b[37m\u001b[0m \u001b[1m1s\u001b[0m 3ms/step - accuracy: 0.9247 - loss: 0.1824 - val_accuracy: 0.8548 - val_loss: 0.3149 - learning_rate: 1.2500e-04\n",
            "Epoch 24/100\n",
            "\u001b[1m120/120\u001b[0m \u001b[32m━━━━━━━━━━━━━━━━━━━━\u001b[0m\u001b[37m\u001b[0m \u001b[1m1s\u001b[0m 2ms/step - accuracy: 0.9267 - loss: 0.1851 - val_accuracy: 0.8548 - val_loss: 0.3152 - learning_rate: 1.2500e-04\n",
            "Epoch 24: early stopping\n",
            "Restoring model weights from the end of the best epoch: 19.\n",
            "\u001b[1m80/80\u001b[0m \u001b[32m━━━━━━━━━━━━━━━━━━━━\u001b[0m\u001b[37m\u001b[0m \u001b[1m0s\u001b[0m 1ms/step - accuracy: 0.8569 - loss: 0.3103\n",
            "Validation Accuracy: 85.793%\n"
          ]
        }
      ]
    },
    {
      "cell_type": "code",
      "source": [
        "# Retrieve the history of training\n",
        "history_dict = history.history\n",
        "loss = history_dict['loss']\n",
        "val_loss = history_dict['val_loss']\n",
        "accuracy = history_dict['accuracy']\n",
        "val_accuracy = history_dict['val_accuracy']\n",
        "\n",
        "\n",
        "epochs = range(1, len(loss) + 1)\n",
        "\n",
        "# Set up the figure and axis\n",
        "fig, axs = plt.subplots(1, 2, figsize=(15, 5))\n",
        "\n",
        "# Plot the loss\n",
        "axs[0].plot(epochs, loss, 'bo-', label='Training Loss')\n",
        "axs[0].plot(epochs, val_loss, 'ro-', label='Validation Loss')\n",
        "axs[0].set_title('Training and Validation Loss')\n",
        "axs[0].set_xlabel('Epochs')\n",
        "axs[0].set_ylabel('Loss')\n",
        "axs[0].legend()\n",
        "\n",
        "# Plot the accuracy\n",
        "axs[1].plot(epochs, accuracy, 'bo-', label='Training Accuracy')\n",
        "axs[1].plot(epochs, val_accuracy, 'ro-', label='Validation Accuracy')\n",
        "axs[1].set_title('Training and Validation Accuracy')\n",
        "axs[1].set_xlabel('Epochs')\n",
        "axs[1].set_ylabel('Accuracy')\n",
        "axs[1].legend()\n",
        "\n",
        "# Display the plots\n",
        "plt.tight_layout()\n",
        "plt.show()"
      ],
      "metadata": {
        "colab": {
          "base_uri": "https://localhost:8080/",
          "height": 426
        },
        "id": "BBfZjbaBrGWG",
        "outputId": "1e1a884b-9999-4a53-d3e1-31e64e71add1"
      },
      "execution_count": 38,
      "outputs": [
        {
          "output_type": "display_data",
          "data": {
            "text/plain": [
              "<Figure size 1500x500 with 2 Axes>"
            ],
            "image/png": "[encoded data removed]"
          },
          "metadata": {}
        }
      ]
    },
    {
      "cell_type": "code",
      "source": [
        "### Voting ###\n",
        "# Initialize individual models\n",
        "rf = RandomForestClassifier(random_state=42, n_estimators= 100, max_depth= None)\n",
        "gbm = GradientBoostingClassifier(random_state=42, learning_rate= 0.1, max_depth= 7, n_estimators= 50)\n",
        "xgb = XGBClassifier(random_state=42, max_depth= 7, n_estimators= 100)\n",
        "\n",
        "# Initialize the Voting Classifier\n",
        "voting_clf = VotingClassifier(estimators=[\n",
        "    ('random forest', rf),\n",
        "    ('GradientBoost', gbm),\n",
        "    ('XGB', xgb)\n",
        "], voting='soft')  # 'soft' voting uses predicted probabilities to vote\n",
        "\n",
        "# Fit the Voting Classifier on the training data\n",
        "voting_clf.fit(X_train, y_train)\n",
        "\n",
        "# Make predictions on the validation set\n",
        "y_voting_val_pred = voting_clf.predict(X_val)\n",
        "\n",
        "# Calculate the validation accuracy\n",
        "val_voting_accuracy = accuracy_score(y_val, y_voting_val_pred)\n",
        "print(f\"Validation Accuracy: {val_voting_accuracy:.3%}\")"
      ],
      "metadata": {
        "colab": {
          "base_uri": "https://localhost:8080/"
        },
        "id": "GwvgYgTqrSoA",
        "outputId": "8ab2f0ce-0e8f-47a0-fd29-563483c9179a"
      },
      "execution_count": 39,
      "outputs": [
        {
          "output_type": "stream",
          "name": "stdout",
          "text": [
            "Validation Accuracy: 88.902%\n"
          ]
        }
      ]
    },
    {
      "cell_type": "code",
      "source": [
        "### Stacking ###\n",
        "# Define the base models\n",
        "base_models = [\n",
        "    ('random forest', rf),\n",
        "    ('GradientBoost', gbm),\n",
        "    ('XGB', xgb)\n",
        "]\n",
        "\n",
        "# Define the meta-classifier\n",
        "meta_classifier = RandomForestClassifier(random_state=42, n_estimators= 150, max_depth= 3)\n",
        "\n",
        "# Create the stacking classifier\n",
        "stacking_clf = StackingClassifier(estimators=base_models, final_estimator=meta_classifier, cv=5)\n",
        "\n",
        "# Train the stacking classifier\n",
        "stacking_clf.fit(X_train, y_train)\n",
        "\n",
        "# Make predictions on the validation set\n",
        "y_stacking_val_pred = stacking_clf.predict(X_val)\n",
        "val_stacking_accuracy = accuracy_score(y_val, y_stacking_val_pred)\n",
        "\n",
        "# Output the validation accuracy\n",
        "print(f\"Validation Accuracy: {val_stacking_accuracy:.3%}\")"
      ],
      "metadata": {
        "colab": {
          "base_uri": "https://localhost:8080/"
        },
        "id": "Fs9e4g8rrcSh",
        "outputId": "a92ba7a0-40aa-4e2d-d543-592b7f12bed6"
      },
      "execution_count": 40,
      "outputs": [
        {
          "output_type": "stream",
          "name": "stdout",
          "text": [
            "Validation Accuracy: 89.807%\n"
          ]
        }
      ]
    },
    {
      "cell_type": "markdown",
      "source": [
        "# Evaluation"
      ],
      "metadata": {
        "id": "lCdcymUgrlOx"
      }
    },
    {
      "cell_type": "code",
      "source": [
        "def calculate_metrics(y_true, y_pred, y_prob, model_name):\n",
        "    accuracy = accuracy_score(y_true, y_pred)\n",
        "\n",
        "    # Handle binary and multiclass cases for AUC\n",
        "    if y_prob.ndim == 1 or y_prob.shape[1] == 1:  # Binary classification with one probability column\n",
        "        auc = roc_auc_score(y_true, y_prob)\n",
        "    elif y_prob.shape[1] == 2:  # Binary classification with two probability columns\n",
        "        auc = roc_auc_score(y_true, y_prob[:, 1])  # Use probabilities of the positive class\n",
        "    else:  # Multiclass classification case\n",
        "        y_true_binarized = label_binarize(y_true, classes=np.arange(y_prob.shape[1]))\n",
        "        auc = roc_auc_score(y_true_binarized, y_prob, multi_class='ovr')\n",
        "\n",
        "    recall = recall_score(y_true, y_pred, average='weighted')\n",
        "    precision = precision_score(y_true, y_pred, average='weighted')\n",
        "    f1 = f1_score(y_true, y_pred, average='weighted')\n",
        "\n",
        "    return {\n",
        "        'Model': model_name,\n",
        "        'Accuracy': round(accuracy, 2),\n",
        "        'AUC': round(auc, 2),\n",
        "        'Precision': round(precision, 2),\n",
        "        'Recall': round(recall, 2),\n",
        "        'F1 Score': round(f1, 2)\n",
        "    }\n",
        "\n",
        "    # Your existing code follows, which is correct given this adjustment\n",
        "metrics_list = []\n",
        "\n",
        "# Logistic Regression\n",
        "y_lr_val_prob = log_lr.predict_proba(X_val_scaled)\n",
        "metrics_list.append(calculate_metrics(y_val, y_lr_val_pred, y_lr_val_prob, 'Logistic Regression'))\n",
        "\n",
        "# SVC\n",
        "y_svc_val_prob = svc_or.predict_proba(X_val_scaled)\n",
        "metrics_list.append(calculate_metrics(y_val, y_svc_val_pred, y_svc_val_prob, 'SVC'))\n",
        "\n",
        "# K-Nearest Neighbors\n",
        "y_knn_val_prob = grid_search_knn.predict_proba(X_val_scaled)\n",
        "metrics_list.append(calculate_metrics(y_val, y_knn_val_pred, y_knn_val_prob, 'K-Nearest Neighbors'))\n",
        "\n",
        "# GaussianNB\n",
        "y_gnb_val_prob = gnb.predict_proba(X_val_scaled)\n",
        "metrics_list.append(calculate_metrics(y_val, y_gnb_val_pred, y_gnb_val_prob, 'GaussianNB'))\n",
        "\n",
        "# Decision Tree\n",
        "y_dt_val_prob = grid_search_dt.predict_proba(X_val)\n",
        "metrics_list.append(calculate_metrics(y_val, y_dt_val_pred, y_dt_val_prob, 'Decision Tree'))\n",
        "\n",
        "# Random Forest\n",
        "y_rf_val_prob = grid_search_rf.predict_proba(X_val)\n",
        "metrics_list.append(calculate_metrics(y_val, y_rf_val_pred, y_rf_val_prob, 'Random Forest'))\n",
        "\n",
        "# Gradient Boosting Machine\n",
        "y_gbm_val_prob = grid_search_gbm.predict_proba(X_val)\n",
        "metrics_list.append(calculate_metrics(y_val, y_gbm_val_pred, y_gbm_val_prob, 'Gradient Boosting Machine'))\n",
        "\n",
        "# AdaBoost\n",
        "y_ada_val_prob = grid_search_ada.predict_proba(X_val)\n",
        "metrics_list.append(calculate_metrics(y_val, y_ada_val_pred, y_ada_val_prob, 'AdaBoost'))\n",
        "\n",
        "\n",
        "# Neural Network (Keras)\n",
        "y_nn_val_prob = model.predict(X_val_scaled).flatten()  # Flatten to make it 1D if necessary\n",
        "y_nn_val_pred = (y_nn_val_prob > 0.5).astype(int)  # Convert probabilities to class labels\n",
        "metrics_list.append(calculate_metrics(y_val, y_nn_val_pred, y_nn_val_prob, 'Neural Network'))\n",
        "\n",
        "# Voting\n",
        "y_voting_val_prob = voting_clf.predict_proba(X_val)\n",
        "metrics_list.append(calculate_metrics(y_val, y_voting_val_pred, y_voting_val_prob, 'Voting'))\n",
        "\n",
        "# Stacking\n",
        "y_stacking_val_prob = stacking_clf.predict_proba(X_val)\n",
        "metrics_list.append(calculate_metrics(y_val, y_stacking_val_pred, y_stacking_val_prob, 'Stacking'))\n",
        "\n",
        "# Create DataFrame\n",
        "metrics_df = pd.DataFrame(metrics_list)\n",
        "print(metrics_df)"
      ],
      "metadata": {
        "colab": {
          "base_uri": "https://localhost:8080/"
        },
        "id": "7V3vZ4bTrjgx",
        "outputId": "3bf7d75c-53d5-48c8-d538-76a813fa473a"
      },
      "execution_count": 41,
      "outputs": [
        {
          "output_type": "stream",
          "name": "stdout",
          "text": [
            "\u001b[1m80/80\u001b[0m \u001b[32m━━━━━━━━━━━━━━━━━━━━\u001b[0m\u001b[37m\u001b[0m \u001b[1m0s\u001b[0m 2ms/step\n",
            "                        Model  Accuracy   AUC  Precision  Recall  F1 Score\n",
            "0         Logistic Regression      0.83  0.92       0.83    0.83      0.83\n",
            "1                         SVC      0.85  0.92       0.85    0.85      0.85\n",
            "2         K-Nearest Neighbors      0.83  0.91       0.83    0.83      0.83\n",
            "3                  GaussianNB      0.77  0.83       0.77    0.77      0.76\n",
            "4               Decision Tree      0.83  0.88       0.84    0.83      0.83\n",
            "5               Random Forest      0.88  0.96       0.88    0.88      0.88\n",
            "6   Gradient Boosting Machine      0.89  0.97       0.89    0.89      0.89\n",
            "7                    AdaBoost      0.88  0.95       0.88    0.88      0.88\n",
            "8              Neural Network      0.86  0.94       0.86    0.86      0.86\n",
            "9                      Voting      0.89  0.97       0.89    0.89      0.89\n",
            "10                   Stacking      0.90  0.97       0.90    0.90      0.90\n"
          ]
        }
      ]
    },
    {
      "cell_type": "code",
      "source": [],
      "metadata": {
        "id": "6CkKWHhx4nAO"
      },
      "execution_count": null,
      "outputs": []
    }
  ]
}